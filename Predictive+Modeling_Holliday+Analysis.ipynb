{
 "cells": [
  {
   "cell_type": "code",
   "execution_count": 1117,
   "id": "156ea7db",
   "metadata": {},
   "outputs": [],
   "source": [
    "import pandas as pd\n",
    "import numpy as np\n",
    "import matplotlib.pyplot as plt\n",
    "import seaborn as sns\n",
    "%matplotlib inline\n",
    "from scipy.stats import stats\n",
    "from warnings import filterwarnings\n",
    "filterwarnings(\"ignore\")"
   ]
  },
  {
   "cell_type": "code",
   "execution_count": 1118,
   "id": "bc93403b",
   "metadata": {},
   "outputs": [],
   "source": [
    "df1_holiday=pd.read_csv('Holiday_Package.csv')"
   ]
  },
  {
   "cell_type": "code",
   "execution_count": 1119,
   "id": "a22bbe61",
   "metadata": {},
   "outputs": [
    {
     "data": {
      "text/html": [
       "<div>\n",
       "<style scoped>\n",
       "    .dataframe tbody tr th:only-of-type {\n",
       "        vertical-align: middle;\n",
       "    }\n",
       "\n",
       "    .dataframe tbody tr th {\n",
       "        vertical-align: top;\n",
       "    }\n",
       "\n",
       "    .dataframe thead th {\n",
       "        text-align: right;\n",
       "    }\n",
       "</style>\n",
       "<table border=\"1\" class=\"dataframe\">\n",
       "  <thead>\n",
       "    <tr style=\"text-align: right;\">\n",
       "      <th></th>\n",
       "      <th>Unnamed: 0</th>\n",
       "      <th>Holliday_Package</th>\n",
       "      <th>Salary</th>\n",
       "      <th>age</th>\n",
       "      <th>educ</th>\n",
       "      <th>no_young_children</th>\n",
       "      <th>no_older_children</th>\n",
       "      <th>foreign</th>\n",
       "    </tr>\n",
       "  </thead>\n",
       "  <tbody>\n",
       "    <tr>\n",
       "      <th>0</th>\n",
       "      <td>1</td>\n",
       "      <td>no</td>\n",
       "      <td>48412</td>\n",
       "      <td>30</td>\n",
       "      <td>8</td>\n",
       "      <td>1</td>\n",
       "      <td>1</td>\n",
       "      <td>no</td>\n",
       "    </tr>\n",
       "    <tr>\n",
       "      <th>1</th>\n",
       "      <td>2</td>\n",
       "      <td>yes</td>\n",
       "      <td>37207</td>\n",
       "      <td>45</td>\n",
       "      <td>8</td>\n",
       "      <td>0</td>\n",
       "      <td>1</td>\n",
       "      <td>no</td>\n",
       "    </tr>\n",
       "    <tr>\n",
       "      <th>2</th>\n",
       "      <td>3</td>\n",
       "      <td>no</td>\n",
       "      <td>58022</td>\n",
       "      <td>46</td>\n",
       "      <td>9</td>\n",
       "      <td>0</td>\n",
       "      <td>0</td>\n",
       "      <td>no</td>\n",
       "    </tr>\n",
       "    <tr>\n",
       "      <th>3</th>\n",
       "      <td>4</td>\n",
       "      <td>no</td>\n",
       "      <td>66503</td>\n",
       "      <td>31</td>\n",
       "      <td>11</td>\n",
       "      <td>2</td>\n",
       "      <td>0</td>\n",
       "      <td>no</td>\n",
       "    </tr>\n",
       "    <tr>\n",
       "      <th>4</th>\n",
       "      <td>5</td>\n",
       "      <td>no</td>\n",
       "      <td>66734</td>\n",
       "      <td>44</td>\n",
       "      <td>12</td>\n",
       "      <td>0</td>\n",
       "      <td>2</td>\n",
       "      <td>no</td>\n",
       "    </tr>\n",
       "  </tbody>\n",
       "</table>\n",
       "</div>"
      ],
      "text/plain": [
       "   Unnamed: 0 Holliday_Package  Salary  age  educ  no_young_children  \\\n",
       "0           1               no   48412   30     8                  1   \n",
       "1           2              yes   37207   45     8                  0   \n",
       "2           3               no   58022   46     9                  0   \n",
       "3           4               no   66503   31    11                  2   \n",
       "4           5               no   66734   44    12                  0   \n",
       "\n",
       "   no_older_children foreign  \n",
       "0                  1      no  \n",
       "1                  1      no  \n",
       "2                  0      no  \n",
       "3                  0      no  \n",
       "4                  2      no  "
      ]
     },
     "execution_count": 1119,
     "metadata": {},
     "output_type": "execute_result"
    }
   ],
   "source": [
    "df1_holiday.head()"
   ]
  },
  {
   "cell_type": "code",
   "execution_count": 1120,
   "id": "7786af14",
   "metadata": {},
   "outputs": [
    {
     "data": {
      "text/plain": [
       "Index(['Unnamed: 0', 'Holliday_Package', 'Salary', 'age', 'educ',\n",
       "       'no_young_children', 'no_older_children', 'foreign'],\n",
       "      dtype='object')"
      ]
     },
     "execution_count": 1120,
     "metadata": {},
     "output_type": "execute_result"
    }
   ],
   "source": [
    "df1_holiday.columns"
   ]
  },
  {
   "cell_type": "code",
   "execution_count": 1121,
   "id": "f1dc8add",
   "metadata": {},
   "outputs": [
    {
     "name": "stdout",
     "output_type": "stream",
     "text": [
      "The dataset has 872 rows and 8 columns.\n",
      "\n",
      "\n"
     ]
    }
   ],
   "source": [
    "print('The dataset has {} rows and {} columns.'.format(df1_holiday.shape[0],df1_holiday.shape[1]))\n",
    "print('\\n')"
   ]
  },
  {
   "cell_type": "code",
   "execution_count": 1122,
   "id": "b93a31e8",
   "metadata": {},
   "outputs": [],
   "source": [
    "df1=df1_holiday.drop('Unnamed: 0',axis=1)"
   ]
  },
  {
   "cell_type": "code",
   "execution_count": 1123,
   "id": "e350c628",
   "metadata": {},
   "outputs": [
    {
     "name": "stdout",
     "output_type": "stream",
     "text": [
      "<class 'pandas.core.frame.DataFrame'>\n",
      "RangeIndex: 872 entries, 0 to 871\n",
      "Data columns (total 7 columns):\n",
      " #   Column             Non-Null Count  Dtype \n",
      "---  ------             --------------  ----- \n",
      " 0   Holliday_Package   872 non-null    object\n",
      " 1   Salary             872 non-null    int64 \n",
      " 2   age                872 non-null    int64 \n",
      " 3   educ               872 non-null    int64 \n",
      " 4   no_young_children  872 non-null    int64 \n",
      " 5   no_older_children  872 non-null    int64 \n",
      " 6   foreign            872 non-null    object\n",
      "dtypes: int64(5), object(2)\n",
      "memory usage: 47.8+ KB\n"
     ]
    }
   ],
   "source": [
    "df1.info()"
   ]
  },
  {
   "cell_type": "code",
   "execution_count": 1124,
   "id": "90a95771",
   "metadata": {
    "scrolled": false
   },
   "outputs": [
    {
     "data": {
      "text/html": [
       "<div>\n",
       "<style scoped>\n",
       "    .dataframe tbody tr th:only-of-type {\n",
       "        vertical-align: middle;\n",
       "    }\n",
       "\n",
       "    .dataframe tbody tr th {\n",
       "        vertical-align: top;\n",
       "    }\n",
       "\n",
       "    .dataframe thead th {\n",
       "        text-align: right;\n",
       "    }\n",
       "</style>\n",
       "<table border=\"1\" class=\"dataframe\">\n",
       "  <thead>\n",
       "    <tr style=\"text-align: right;\">\n",
       "      <th></th>\n",
       "      <th>count</th>\n",
       "      <th>unique</th>\n",
       "      <th>top</th>\n",
       "      <th>freq</th>\n",
       "      <th>mean</th>\n",
       "      <th>std</th>\n",
       "      <th>min</th>\n",
       "      <th>25%</th>\n",
       "      <th>50%</th>\n",
       "      <th>75%</th>\n",
       "      <th>max</th>\n",
       "    </tr>\n",
       "  </thead>\n",
       "  <tbody>\n",
       "    <tr>\n",
       "      <th>Holliday_Package</th>\n",
       "      <td>872</td>\n",
       "      <td>2</td>\n",
       "      <td>no</td>\n",
       "      <td>471</td>\n",
       "      <td>NaN</td>\n",
       "      <td>NaN</td>\n",
       "      <td>NaN</td>\n",
       "      <td>NaN</td>\n",
       "      <td>NaN</td>\n",
       "      <td>NaN</td>\n",
       "      <td>NaN</td>\n",
       "    </tr>\n",
       "    <tr>\n",
       "      <th>Salary</th>\n",
       "      <td>872.0</td>\n",
       "      <td>NaN</td>\n",
       "      <td>NaN</td>\n",
       "      <td>NaN</td>\n",
       "      <td>47729.172018</td>\n",
       "      <td>23418.668531</td>\n",
       "      <td>1322.0</td>\n",
       "      <td>35324.0</td>\n",
       "      <td>41903.5</td>\n",
       "      <td>53469.5</td>\n",
       "      <td>236961.0</td>\n",
       "    </tr>\n",
       "    <tr>\n",
       "      <th>age</th>\n",
       "      <td>872.0</td>\n",
       "      <td>NaN</td>\n",
       "      <td>NaN</td>\n",
       "      <td>NaN</td>\n",
       "      <td>39.955275</td>\n",
       "      <td>10.551675</td>\n",
       "      <td>20.0</td>\n",
       "      <td>32.0</td>\n",
       "      <td>39.0</td>\n",
       "      <td>48.0</td>\n",
       "      <td>62.0</td>\n",
       "    </tr>\n",
       "    <tr>\n",
       "      <th>educ</th>\n",
       "      <td>872.0</td>\n",
       "      <td>NaN</td>\n",
       "      <td>NaN</td>\n",
       "      <td>NaN</td>\n",
       "      <td>9.307339</td>\n",
       "      <td>3.036259</td>\n",
       "      <td>1.0</td>\n",
       "      <td>8.0</td>\n",
       "      <td>9.0</td>\n",
       "      <td>12.0</td>\n",
       "      <td>21.0</td>\n",
       "    </tr>\n",
       "    <tr>\n",
       "      <th>no_young_children</th>\n",
       "      <td>872.0</td>\n",
       "      <td>NaN</td>\n",
       "      <td>NaN</td>\n",
       "      <td>NaN</td>\n",
       "      <td>0.311927</td>\n",
       "      <td>0.61287</td>\n",
       "      <td>0.0</td>\n",
       "      <td>0.0</td>\n",
       "      <td>0.0</td>\n",
       "      <td>0.0</td>\n",
       "      <td>3.0</td>\n",
       "    </tr>\n",
       "    <tr>\n",
       "      <th>no_older_children</th>\n",
       "      <td>872.0</td>\n",
       "      <td>NaN</td>\n",
       "      <td>NaN</td>\n",
       "      <td>NaN</td>\n",
       "      <td>0.982798</td>\n",
       "      <td>1.086786</td>\n",
       "      <td>0.0</td>\n",
       "      <td>0.0</td>\n",
       "      <td>1.0</td>\n",
       "      <td>2.0</td>\n",
       "      <td>6.0</td>\n",
       "    </tr>\n",
       "    <tr>\n",
       "      <th>foreign</th>\n",
       "      <td>872</td>\n",
       "      <td>2</td>\n",
       "      <td>no</td>\n",
       "      <td>656</td>\n",
       "      <td>NaN</td>\n",
       "      <td>NaN</td>\n",
       "      <td>NaN</td>\n",
       "      <td>NaN</td>\n",
       "      <td>NaN</td>\n",
       "      <td>NaN</td>\n",
       "      <td>NaN</td>\n",
       "    </tr>\n",
       "  </tbody>\n",
       "</table>\n",
       "</div>"
      ],
      "text/plain": [
       "                   count unique  top freq          mean           std     min  \\\n",
       "Holliday_Package     872      2   no  471           NaN           NaN     NaN   \n",
       "Salary             872.0    NaN  NaN  NaN  47729.172018  23418.668531  1322.0   \n",
       "age                872.0    NaN  NaN  NaN     39.955275     10.551675    20.0   \n",
       "educ               872.0    NaN  NaN  NaN      9.307339      3.036259     1.0   \n",
       "no_young_children  872.0    NaN  NaN  NaN      0.311927       0.61287     0.0   \n",
       "no_older_children  872.0    NaN  NaN  NaN      0.982798      1.086786     0.0   \n",
       "foreign              872      2   no  656           NaN           NaN     NaN   \n",
       "\n",
       "                       25%      50%      75%       max  \n",
       "Holliday_Package       NaN      NaN      NaN       NaN  \n",
       "Salary             35324.0  41903.5  53469.5  236961.0  \n",
       "age                   32.0     39.0     48.0      62.0  \n",
       "educ                   8.0      9.0     12.0      21.0  \n",
       "no_young_children      0.0      0.0      0.0       3.0  \n",
       "no_older_children      0.0      1.0      2.0       6.0  \n",
       "foreign                NaN      NaN      NaN       NaN  "
      ]
     },
     "execution_count": 1124,
     "metadata": {},
     "output_type": "execute_result"
    }
   ],
   "source": [
    "df1.describe(include='all').T"
   ]
  },
  {
   "cell_type": "code",
   "execution_count": 1125,
   "id": "03aa7870",
   "metadata": {
    "scrolled": true
   },
   "outputs": [
    {
     "data": {
      "text/plain": [
       "Holliday_Package     0\n",
       "Salary               0\n",
       "age                  0\n",
       "educ                 0\n",
       "no_young_children    0\n",
       "no_older_children    0\n",
       "foreign              0\n",
       "dtype: int64"
      ]
     },
     "execution_count": 1125,
     "metadata": {},
     "output_type": "execute_result"
    }
   ],
   "source": [
    "df1.isnull().sum()"
   ]
  },
  {
   "cell_type": "code",
   "execution_count": 1126,
   "id": "b547fe09",
   "metadata": {
    "scrolled": true
   },
   "outputs": [
    {
     "data": {
      "text/plain": [
       "0"
      ]
     },
     "execution_count": 1126,
     "metadata": {},
     "output_type": "execute_result"
    }
   ],
   "source": [
    "df1.duplicated().sum()"
   ]
  },
  {
   "cell_type": "code",
   "execution_count": 1127,
   "id": "7aee879d",
   "metadata": {
    "scrolled": true
   },
   "outputs": [
    {
     "data": {
      "text/plain": [
       "no     471\n",
       "yes    401\n",
       "Name: Holliday_Package, dtype: int64"
      ]
     },
     "execution_count": 1127,
     "metadata": {},
     "output_type": "execute_result"
    }
   ],
   "source": [
    "df1['Holliday_Package'].value_counts()"
   ]
  },
  {
   "cell_type": "code",
   "execution_count": 1128,
   "id": "c36cbe15",
   "metadata": {},
   "outputs": [
    {
     "data": {
      "text/plain": [
       "no     656\n",
       "yes    216\n",
       "Name: foreign, dtype: int64"
      ]
     },
     "execution_count": 1128,
     "metadata": {},
     "output_type": "execute_result"
    }
   ],
   "source": [
    "df1['foreign'].value_counts()"
   ]
  },
  {
   "cell_type": "code",
   "execution_count": 1129,
   "id": "d81a6155",
   "metadata": {
    "scrolled": false
   },
   "outputs": [
    {
     "name": "stdout",
     "output_type": "stream",
     "text": [
      "\n",
      "\n",
      "Skewness of Salary: 3.10\n",
      "Kurtosis of Salary: 15.85\n",
      "Outliers of Salary: 0.57\n"
     ]
    },
    {
     "data": {
      "image/png": "[encoded data removed]",
      "text/plain": [
       "<Figure size 720x360 with 2 Axes>"
      ]
     },
     "metadata": {
      "needs_background": "light"
     },
     "output_type": "display_data"
    }
   ],
   "source": [
    "fig, axes = plt.subplots(nrows=1,ncols=2)\n",
    "fig.set_size_inches(10,5)\n",
    "sns.histplot(df1['Salary'], kde=True, ax=axes[0])\n",
    "sns.boxplot(x='Salary', data=df1, ax=axes[1])\n",
    "print('\\n')\n",
    "skew=df1['Salary'].skew()\n",
    "print('Skewness of Salary: %.2f' % skew)\n",
    "kurtosis=df1['Salary'].kurtosis()\n",
    "print('Kurtosis of Salary: %.2f' % kurtosis)\n",
    "Q1 = df1['Salary'].quantile(0.25)\n",
    "Q3 = df1['Salary'].quantile(0.75)\n",
    "IQR = Q3 - Q1\n",
    "outlier=((df1['Salary'] < (Q1 - 1.5 * IQR)) | (df1['Salary']> (Q3 + 1.5 * IQR))).sum()\n",
    "print('Outliers of Salary: {}'.format(outlier/100))"
   ]
  },
  {
   "cell_type": "code",
   "execution_count": 1130,
   "id": "a61b9001",
   "metadata": {},
   "outputs": [
    {
     "name": "stdout",
     "output_type": "stream",
     "text": [
      "\n",
      "\n",
      "Skewness of age: 0.15\n",
      "Kurtosis of age: -0.91\n",
      "Outliers of age: 0.0\n"
     ]
    },
    {
     "data": {
      "image/png": "[encoded data removed]",
      "text/plain": [
       "<Figure size 720x360 with 2 Axes>"
      ]
     },
     "metadata": {
      "needs_background": "light"
     },
     "output_type": "display_data"
    }
   ],
   "source": [
    "fig, axes = plt.subplots(nrows=1,ncols=2)\n",
    "fig.set_size_inches(10,5)\n",
    "sns.histplot(df1['age'], kde=True, ax=axes[0],bins=30)\n",
    "sns.boxplot(x='age', data=df1, ax=axes[1])\n",
    "print('\\n')\n",
    "skew=df1['age'].skew()\n",
    "print('Skewness of age: %.2f' % skew)\n",
    "kurtosis=df1['age'].kurtosis()\n",
    "print('Kurtosis of age: %.2f' % kurtosis)\n",
    "Q1 = df1['age'].quantile(0.25)\n",
    "Q3 = df1['age'].quantile(0.75)\n",
    "IQR = Q3 - Q1\n",
    "outlier=((df1['age'] < (Q1 - 1.5 * IQR)) | (df1['age']> (Q3 + 1.5 * IQR))).sum()\n",
    "print('Outliers of age: {}'.format(outlier/100))"
   ]
  },
  {
   "cell_type": "code",
   "execution_count": 1131,
   "id": "4ee6bf45",
   "metadata": {
    "scrolled": true
   },
   "outputs": [
    {
     "name": "stdout",
     "output_type": "stream",
     "text": [
      "\n",
      "\n",
      "Skewness of educ: -0.05\n",
      "Kurtosis of educ: 0.01\n",
      "Outliers of educ: 0.04\n"
     ]
    },
    {
     "data": {
      "image/png": "[encoded data removed]",
      "text/plain": [
       "<Figure size 720x360 with 2 Axes>"
      ]
     },
     "metadata": {
      "needs_background": "light"
     },
     "output_type": "display_data"
    }
   ],
   "source": [
    "fig, axes = plt.subplots(nrows=1,ncols=2)\n",
    "fig.set_size_inches(10,5)\n",
    "sns.histplot(df1['educ'], kde=True, ax=axes[0],bins=30)\n",
    "sns.boxplot(x='educ', data=df1, ax=axes[1])\n",
    "print('\\n')\n",
    "skew=df1['educ'].skew()\n",
    "print('Skewness of educ: %.2f' % skew)\n",
    "kurtosis=df1['educ'].kurtosis()\n",
    "print('Kurtosis of educ: %.2f' % kurtosis)\n",
    "Q1 = df1['educ'].quantile(0.25)\n",
    "Q3 = df1['educ'].quantile(0.75)\n",
    "IQR = Q3 - Q1\n",
    "outlier=((df1['educ'] < (Q1 - 1.5 * IQR)) | (df1['educ']> (Q3 + 1.5 * IQR))).sum()\n",
    "print('Outliers of educ: {}'.format(outlier/100))"
   ]
  },
  {
   "cell_type": "code",
   "execution_count": 1132,
   "id": "d14ab6c2",
   "metadata": {},
   "outputs": [
    {
     "name": "stdout",
     "output_type": "stream",
     "text": [
      "\n",
      "\n",
      "Skewness of no_young_children: 1.95\n",
      "Kurtosis of no_young_children: 3.11\n",
      "Outliers of no_young_children: 2.07\n"
     ]
    },
    {
     "data": {
      "image/png": "[encoded data removed]",
      "text/plain": [
       "<Figure size 720x360 with 2 Axes>"
      ]
     },
     "metadata": {
      "needs_background": "light"
     },
     "output_type": "display_data"
    }
   ],
   "source": [
    "fig, axes = plt.subplots(nrows=1,ncols=2)\n",
    "fig.set_size_inches(10,5)\n",
    "sns.histplot(df1['no_young_children'], kde=True, ax=axes[0],bins=30)\n",
    "sns.boxplot(x='no_young_children', data=df1, ax=axes[1])\n",
    "print('\\n')\n",
    "skew=df1['no_young_children'].skew()\n",
    "print('Skewness of no_young_children: %.2f' % skew)\n",
    "kurtosis=df1['no_young_children'].kurtosis()\n",
    "print('Kurtosis of no_young_children: %.2f' % kurtosis)\n",
    "Q1 = df1['no_young_children'].quantile(0.25)\n",
    "Q3 = df1['no_young_children'].quantile(0.75)\n",
    "IQR = Q3 - Q1\n",
    "outlier=((df1['no_young_children'] < (Q1 - 1.5 * IQR)) | (df1['no_young_children']> (Q3 + 1.5 * IQR))).sum()\n",
    "print('Outliers of no_young_children: {}'.format(outlier/100))"
   ]
  },
  {
   "cell_type": "code",
   "execution_count": 1133,
   "id": "70326868",
   "metadata": {
    "scrolled": false
   },
   "outputs": [
    {
     "name": "stdout",
     "output_type": "stream",
     "text": [
      "\n",
      "\n",
      "Skewness of no_older_children: 0.95\n",
      "Kurtosis of no_older_children: 0.68\n",
      "Outliers of no_older_children: 0.02\n"
     ]
    },
    {
     "data": {
      "image/png": "[encoded data removed]",
      "text/plain": [
       "<Figure size 720x360 with 2 Axes>"
      ]
     },
     "metadata": {
      "needs_background": "light"
     },
     "output_type": "display_data"
    }
   ],
   "source": [
    "fig, axes = plt.subplots(nrows=1,ncols=2)\n",
    "fig.set_size_inches(10,5)\n",
    "sns.histplot(df1['no_older_children'], kde=True, ax=axes[0],bins=30)\n",
    "sns.boxplot(x='no_older_children', data=df1, ax=axes[1])\n",
    "print('\\n')\n",
    "skew=df1['no_older_children'].skew()\n",
    "print('Skewness of no_older_children: %.2f' % skew)\n",
    "kurtosis=df1['no_older_children'].kurtosis()\n",
    "print('Kurtosis of no_older_children: %.2f' % kurtosis)\n",
    "Q1 = df1['no_older_children'].quantile(0.25)\n",
    "Q3 = df1['no_older_children'].quantile(0.75)\n",
    "IQR = Q3 - Q1\n",
    "outlier=((df1['no_older_children'] < (Q1 - 1.5 * IQR)) | (df1['no_older_children']> (Q3 + 1.5 * IQR))).sum()\n",
    "print('Outliers of no_older_children: {}'.format(outlier/100))"
   ]
  },
  {
   "cell_type": "code",
   "execution_count": 1134,
   "id": "a376c923",
   "metadata": {},
   "outputs": [
    {
     "data": {
      "text/plain": [
       "Index(['Holliday_Package', 'Salary', 'age', 'educ', 'no_young_children',\n",
       "       'no_older_children', 'foreign'],\n",
       "      dtype='object')"
      ]
     },
     "execution_count": 1134,
     "metadata": {},
     "output_type": "execute_result"
    }
   ],
   "source": [
    "df1.columns"
   ]
  },
  {
   "cell_type": "code",
   "execution_count": 1135,
   "id": "edb441e9",
   "metadata": {
    "scrolled": false
   },
   "outputs": [
    {
     "data": {
      "image/png": "[encoded data removed]",
      "text/plain": [
       "<Figure size 648x360 with 1 Axes>"
      ]
     },
     "metadata": {
      "needs_background": "light"
     },
     "output_type": "display_data"
    },
    {
     "data": {
      "text/plain": [
       "no     471\n",
       "yes    401\n",
       "Name: Holliday_Package, dtype: int64"
      ]
     },
     "execution_count": 1135,
     "metadata": {},
     "output_type": "execute_result"
    }
   ],
   "source": [
    "plt.figure(figsize=(9,5))\n",
    "sns.countplot(data=df1,x='Holliday_Package')\n",
    "plt.show()\n",
    "df1['Holliday_Package'].value_counts()"
   ]
  },
  {
   "cell_type": "code",
   "execution_count": 1216,
   "id": "22dd1a13",
   "metadata": {
    "scrolled": false
   },
   "outputs": [
    {
     "data": {
      "image/png": "[encoded data removed]",
      "text/plain": [
       "<Figure size 648x360 with 1 Axes>"
      ]
     },
     "metadata": {
      "needs_background": "light"
     },
     "output_type": "display_data"
    },
    {
     "data": {
      "text/plain": [
       "0    0.752294\n",
       "1    0.247706\n",
       "Name: foreign, dtype: float64"
      ]
     },
     "execution_count": 1216,
     "metadata": {},
     "output_type": "execute_result"
    }
   ],
   "source": [
    "plt.figure(figsize=(9,5))\n",
    "sns.countplot(data=df1,x='foreign')\n",
    "plt.show()\n",
    "df1['foreign'].value_counts(normalize=True)"
   ]
  },
  {
   "cell_type": "code",
   "execution_count": 1137,
   "id": "69808456",
   "metadata": {},
   "outputs": [
    {
     "data": {
      "image/png": "[encoded data removed]",
      "text/plain": [
       "<Figure size 648x360 with 1 Axes>"
      ]
     },
     "metadata": {
      "needs_background": "light"
     },
     "output_type": "display_data"
    },
    {
     "data": {
      "text/plain": [
       "0    665\n",
       "1    147\n",
       "2     55\n",
       "3      5\n",
       "Name: no_young_children, dtype: int64"
      ]
     },
     "execution_count": 1137,
     "metadata": {},
     "output_type": "execute_result"
    }
   ],
   "source": [
    "plt.figure(figsize=(9,5))\n",
    "sns.countplot(data=df1,x='no_young_children')\n",
    "plt.show()\n",
    "df1['no_young_children'].value_counts()"
   ]
  },
  {
   "cell_type": "code",
   "execution_count": 1138,
   "id": "16ff16ed",
   "metadata": {
    "scrolled": false
   },
   "outputs": [
    {
     "data": {
      "image/png": "[encoded data removed]",
      "text/plain": [
       "<Figure size 648x360 with 1 Axes>"
      ]
     },
     "metadata": {
      "needs_background": "light"
     },
     "output_type": "display_data"
    },
    {
     "data": {
      "text/plain": [
       "0    393\n",
       "2    208\n",
       "1    198\n",
       "3     55\n",
       "4     14\n",
       "5      2\n",
       "6      2\n",
       "Name: no_older_children, dtype: int64"
      ]
     },
     "execution_count": 1138,
     "metadata": {},
     "output_type": "execute_result"
    }
   ],
   "source": [
    "plt.figure(figsize=(9,5))\n",
    "sns.countplot(data=df1,x='no_older_children')\n",
    "plt.show()\n",
    "df1['no_older_children'].value_counts()"
   ]
  },
  {
   "cell_type": "code",
   "execution_count": 1139,
   "id": "7d61debb",
   "metadata": {},
   "outputs": [
    {
     "data": {
      "text/plain": [
       "Index(['Salary', 'age', 'educ'], dtype='object')"
      ]
     },
     "execution_count": 1139,
     "metadata": {},
     "output_type": "execute_result"
    }
   ],
   "source": [
    "feature_list_holiday = df1[['Salary', 'age', 'educ',]].columns\n",
    "feature_list_holiday"
   ]
  },
  {
   "cell_type": "code",
   "execution_count": 1140,
   "id": "5986f097",
   "metadata": {
    "scrolled": false
   },
   "outputs": [
    {
     "data": {
      "image/png": "[encoded data removed]",
      "text/plain": [
       "<Figure size 1080x2160 with 3 Axes>"
      ]
     },
     "metadata": {
      "needs_background": "light"
     },
     "output_type": "display_data"
    }
   ],
   "source": [
    "plt.figure(figsize=(15,30))\n",
    "for i in range(len(feature_list_holiday)):\n",
    "    plt.subplot(7,3,i+1)\n",
    "    sns.boxplot(x='Holliday_Package',y=feature_list_holiday[i],data=df1)\n",
    "    plt.title('Scatterplot of {}'.format(feature_list_holiday[i]))\n",
    "    plt.tight_layout()"
   ]
  },
  {
   "cell_type": "code",
   "execution_count": 1141,
   "id": "5f91c5ce",
   "metadata": {
    "scrolled": true
   },
   "outputs": [
    {
     "data": {
      "image/png": "[encoded data removed]",
      "text/plain": [
       "<Figure size 576x360 with 1 Axes>"
      ]
     },
     "metadata": {
      "needs_background": "light"
     },
     "output_type": "display_data"
    }
   ],
   "source": [
    "plt.figure(figsize=(8,5))\n",
    "sns.countplot(df1['foreign'],hue=df1['Holliday_Package']);\n",
    "plt.title('foreign vs Holliday_Package')\n",
    "plt.show()"
   ]
  },
  {
   "cell_type": "code",
   "execution_count": 1142,
   "id": "8ef33736",
   "metadata": {},
   "outputs": [
    {
     "data": {
      "image/png": "[encoded data removed]",
      "text/plain": [
       "<Figure size 576x360 with 1 Axes>"
      ]
     },
     "metadata": {
      "needs_background": "light"
     },
     "output_type": "display_data"
    }
   ],
   "source": [
    "plt.figure(figsize=(8,5))\n",
    "sns.countplot(df1['no_young_children'],hue=df1['Holliday_Package']);\n",
    "plt.title('no_young_children vs Holliday_Package')\n",
    "plt.show()"
   ]
  },
  {
   "cell_type": "code",
   "execution_count": 1143,
   "id": "bec02021",
   "metadata": {
    "scrolled": true
   },
   "outputs": [
    {
     "data": {
      "image/png": "[encoded data removed]",
      "text/plain": [
       "<Figure size 576x360 with 1 Axes>"
      ]
     },
     "metadata": {
      "needs_background": "light"
     },
     "output_type": "display_data"
    }
   ],
   "source": [
    "plt.figure(figsize=(8,5))\n",
    "sns.countplot(df1['no_older_children'],hue=df1['Holliday_Package']);\n",
    "plt.title('no_older_children vs Holliday_Package')\n",
    "plt.show()"
   ]
  },
  {
   "cell_type": "code",
   "execution_count": 1144,
   "id": "bce94c1e",
   "metadata": {},
   "outputs": [
    {
     "data": {
      "text/plain": [
       "<seaborn.axisgrid.PairGrid at 0x141c8ba0550>"
      ]
     },
     "execution_count": 1144,
     "metadata": {},
     "output_type": "execute_result"
    },
    {
     "data": {
      "image/png": "[encoded data removed]",
      "text/plain": [
       "<Figure size 814.875x720 with 30 Axes>"
      ]
     },
     "metadata": {
      "needs_background": "light"
     },
     "output_type": "display_data"
    }
   ],
   "source": [
    "sns.pairplot(df1, hue='Holliday_Package',diag_kind='kde',size=2)"
   ]
  },
  {
   "cell_type": "code",
   "execution_count": 1145,
   "id": "c89ef501",
   "metadata": {},
   "outputs": [
    {
     "data": {
      "image/png": "[encoded data removed]",
      "text/plain": [
       "<Figure size 720x576 with 2 Axes>"
      ]
     },
     "metadata": {
      "needs_background": "light"
     },
     "output_type": "display_data"
    }
   ],
   "source": [
    "corr = df1.corr(method='pearson')\n",
    "mask = np.triu(np.ones_like(corr, dtype=np.bool)) \n",
    "fig = plt.subplots(figsize=(10,8))\n",
    "sns.heatmap(df1.corr(), annot=True,fmt='.2f',mask=mask)\n",
    "plt.show()"
   ]
  },
  {
   "cell_type": "markdown",
   "id": "e4deb7ba",
   "metadata": {},
   "source": [
    "def remove_outlier(col):\n",
    "    Q1,Q3=col.quantile([0.05,0.95])\n",
    "    IQR=Q3-Q1\n",
    "    lower_limit=Q1-(1.5*IQR)\n",
    "    upper_limit=Q3+(1.5*IQR)\n",
    "    return lower_limit, upper_limit"
   ]
  },
  {
   "cell_type": "markdown",
   "id": "d1f8baea",
   "metadata": {
    "scrolled": true
   },
   "source": [
    "feature_list = df1[['Salary','educ']].columns\n",
    "feature_list"
   ]
  },
  {
   "cell_type": "markdown",
   "id": "cd1a3933",
   "metadata": {},
   "source": [
    "for i in feature_list:\n",
    "    LL,UL=remove_outlier(df1[i])\n",
    "    df1[i]=np.where(df1[i]<LL,LL,df1[i])\n",
    "    df1[i]=np.where(df1[i]>UL,UL,df1[i])"
   ]
  },
  {
   "cell_type": "markdown",
   "id": "dc8d3941",
   "metadata": {},
   "source": [
    "plt.figure(figsize=(12,16))\n",
    "for i in range(len(feature_list)):\n",
    "    plt.subplot(5,4,i+1)\n",
    "    sns.boxplot(y=df1[feature_list[i]],data=df1)\n",
    "    plt.title('Boxplot of {}'.format(feature_list[i]))\n",
    "    plt.tight_layout()\n",
    "    "
   ]
  },
  {
   "cell_type": "code",
   "execution_count": 1146,
   "id": "9f63cb21",
   "metadata": {},
   "outputs": [
    {
     "data": {
      "text/html": [
       "<div>\n",
       "<style scoped>\n",
       "    .dataframe tbody tr th:only-of-type {\n",
       "        vertical-align: middle;\n",
       "    }\n",
       "\n",
       "    .dataframe tbody tr th {\n",
       "        vertical-align: top;\n",
       "    }\n",
       "\n",
       "    .dataframe thead th {\n",
       "        text-align: right;\n",
       "    }\n",
       "</style>\n",
       "<table border=\"1\" class=\"dataframe\">\n",
       "  <thead>\n",
       "    <tr style=\"text-align: right;\">\n",
       "      <th></th>\n",
       "      <th>Salary</th>\n",
       "      <th>age</th>\n",
       "      <th>educ</th>\n",
       "      <th>no_young_children</th>\n",
       "      <th>no_older_children</th>\n",
       "    </tr>\n",
       "  </thead>\n",
       "  <tbody>\n",
       "    <tr>\n",
       "      <th>count</th>\n",
       "      <td>872.000000</td>\n",
       "      <td>872.000000</td>\n",
       "      <td>872.000000</td>\n",
       "      <td>872.000000</td>\n",
       "      <td>872.000000</td>\n",
       "    </tr>\n",
       "    <tr>\n",
       "      <th>mean</th>\n",
       "      <td>47729.172018</td>\n",
       "      <td>39.955275</td>\n",
       "      <td>9.307339</td>\n",
       "      <td>0.311927</td>\n",
       "      <td>0.982798</td>\n",
       "    </tr>\n",
       "    <tr>\n",
       "      <th>std</th>\n",
       "      <td>23418.668531</td>\n",
       "      <td>10.551675</td>\n",
       "      <td>3.036259</td>\n",
       "      <td>0.612870</td>\n",
       "      <td>1.086786</td>\n",
       "    </tr>\n",
       "    <tr>\n",
       "      <th>min</th>\n",
       "      <td>1322.000000</td>\n",
       "      <td>20.000000</td>\n",
       "      <td>1.000000</td>\n",
       "      <td>0.000000</td>\n",
       "      <td>0.000000</td>\n",
       "    </tr>\n",
       "    <tr>\n",
       "      <th>25%</th>\n",
       "      <td>35324.000000</td>\n",
       "      <td>32.000000</td>\n",
       "      <td>8.000000</td>\n",
       "      <td>0.000000</td>\n",
       "      <td>0.000000</td>\n",
       "    </tr>\n",
       "    <tr>\n",
       "      <th>50%</th>\n",
       "      <td>41903.500000</td>\n",
       "      <td>39.000000</td>\n",
       "      <td>9.000000</td>\n",
       "      <td>0.000000</td>\n",
       "      <td>1.000000</td>\n",
       "    </tr>\n",
       "    <tr>\n",
       "      <th>75%</th>\n",
       "      <td>53469.500000</td>\n",
       "      <td>48.000000</td>\n",
       "      <td>12.000000</td>\n",
       "      <td>0.000000</td>\n",
       "      <td>2.000000</td>\n",
       "    </tr>\n",
       "    <tr>\n",
       "      <th>max</th>\n",
       "      <td>236961.000000</td>\n",
       "      <td>62.000000</td>\n",
       "      <td>21.000000</td>\n",
       "      <td>3.000000</td>\n",
       "      <td>6.000000</td>\n",
       "    </tr>\n",
       "  </tbody>\n",
       "</table>\n",
       "</div>"
      ],
      "text/plain": [
       "              Salary         age        educ  no_young_children  \\\n",
       "count     872.000000  872.000000  872.000000         872.000000   \n",
       "mean    47729.172018   39.955275    9.307339           0.311927   \n",
       "std     23418.668531   10.551675    3.036259           0.612870   \n",
       "min      1322.000000   20.000000    1.000000           0.000000   \n",
       "25%     35324.000000   32.000000    8.000000           0.000000   \n",
       "50%     41903.500000   39.000000    9.000000           0.000000   \n",
       "75%     53469.500000   48.000000   12.000000           0.000000   \n",
       "max    236961.000000   62.000000   21.000000           3.000000   \n",
       "\n",
       "       no_older_children  \n",
       "count         872.000000  \n",
       "mean            0.982798  \n",
       "std             1.086786  \n",
       "min             0.000000  \n",
       "25%             0.000000  \n",
       "50%             1.000000  \n",
       "75%             2.000000  \n",
       "max             6.000000  "
      ]
     },
     "execution_count": 1146,
     "metadata": {},
     "output_type": "execute_result"
    }
   ],
   "source": [
    "df1.describe()"
   ]
  },
  {
   "cell_type": "code",
   "execution_count": 1147,
   "id": "7173128a",
   "metadata": {},
   "outputs": [
    {
     "name": "stdout",
     "output_type": "stream",
     "text": [
      "<class 'pandas.core.frame.DataFrame'>\n",
      "RangeIndex: 872 entries, 0 to 871\n",
      "Data columns (total 7 columns):\n",
      " #   Column             Non-Null Count  Dtype \n",
      "---  ------             --------------  ----- \n",
      " 0   Holliday_Package   872 non-null    object\n",
      " 1   Salary             872 non-null    int64 \n",
      " 2   age                872 non-null    int64 \n",
      " 3   educ               872 non-null    int64 \n",
      " 4   no_young_children  872 non-null    int64 \n",
      " 5   no_older_children  872 non-null    int64 \n",
      " 6   foreign            872 non-null    object\n",
      "dtypes: int64(5), object(2)\n",
      "memory usage: 47.8+ KB\n"
     ]
    }
   ],
   "source": [
    "df1.info()"
   ]
  },
  {
   "cell_type": "code",
   "execution_count": 1148,
   "id": "e1c962d9",
   "metadata": {},
   "outputs": [
    {
     "data": {
      "text/plain": [
       "Index(['Holliday_Package', 'Salary', 'age', 'educ', 'no_young_children',\n",
       "       'no_older_children', 'foreign'],\n",
       "      dtype='object')"
      ]
     },
     "execution_count": 1148,
     "metadata": {},
     "output_type": "execute_result"
    }
   ],
   "source": [
    "df1.columns"
   ]
  },
  {
   "cell_type": "code",
   "execution_count": 1149,
   "id": "42a66811",
   "metadata": {},
   "outputs": [
    {
     "name": "stdout",
     "output_type": "stream",
     "text": [
      "\n",
      "\n",
      "feature: Holliday_Package\n",
      "['no', 'yes']\n",
      "Categories (2, object): ['no', 'yes']\n",
      "[0 1]\n",
      "\n",
      "\n",
      "feature: foreign\n",
      "['no', 'yes']\n",
      "Categories (2, object): ['no', 'yes']\n",
      "[0 1]\n"
     ]
    }
   ],
   "source": [
    "for feature in df1.columns: \n",
    "    if df1[feature].dtype == 'object': \n",
    "        print('\\n')\n",
    "        print('feature:',feature)\n",
    "        print(pd.Categorical(df1[feature].unique()))\n",
    "        print(pd.Categorical(df1[feature].unique()).codes)\n",
    "        df1[feature] = pd.Categorical(df1[feature]).codes"
   ]
  },
  {
   "cell_type": "code",
   "execution_count": 1150,
   "id": "b452e39e",
   "metadata": {
    "scrolled": true
   },
   "outputs": [
    {
     "name": "stdout",
     "output_type": "stream",
     "text": [
      "<class 'pandas.core.frame.DataFrame'>\n",
      "RangeIndex: 872 entries, 0 to 871\n",
      "Data columns (total 7 columns):\n",
      " #   Column             Non-Null Count  Dtype\n",
      "---  ------             --------------  -----\n",
      " 0   Holliday_Package   872 non-null    int8 \n",
      " 1   Salary             872 non-null    int64\n",
      " 2   age                872 non-null    int64\n",
      " 3   educ               872 non-null    int64\n",
      " 4   no_young_children  872 non-null    int64\n",
      " 5   no_older_children  872 non-null    int64\n",
      " 6   foreign            872 non-null    int8 \n",
      "dtypes: int64(5), int8(2)\n",
      "memory usage: 35.9 KB\n"
     ]
    }
   ],
   "source": [
    "df1.info()"
   ]
  },
  {
   "cell_type": "code",
   "execution_count": 1151,
   "id": "cb2260a5",
   "metadata": {},
   "outputs": [
    {
     "data": {
      "text/html": [
       "<div>\n",
       "<style scoped>\n",
       "    .dataframe tbody tr th:only-of-type {\n",
       "        vertical-align: middle;\n",
       "    }\n",
       "\n",
       "    .dataframe tbody tr th {\n",
       "        vertical-align: top;\n",
       "    }\n",
       "\n",
       "    .dataframe thead th {\n",
       "        text-align: right;\n",
       "    }\n",
       "</style>\n",
       "<table border=\"1\" class=\"dataframe\">\n",
       "  <thead>\n",
       "    <tr style=\"text-align: right;\">\n",
       "      <th></th>\n",
       "      <th>Holliday_Package</th>\n",
       "      <th>Salary</th>\n",
       "      <th>age</th>\n",
       "      <th>educ</th>\n",
       "      <th>no_young_children</th>\n",
       "      <th>no_older_children</th>\n",
       "      <th>foreign</th>\n",
       "    </tr>\n",
       "  </thead>\n",
       "  <tbody>\n",
       "    <tr>\n",
       "      <th>0</th>\n",
       "      <td>0</td>\n",
       "      <td>48412</td>\n",
       "      <td>30</td>\n",
       "      <td>8</td>\n",
       "      <td>1</td>\n",
       "      <td>1</td>\n",
       "      <td>0</td>\n",
       "    </tr>\n",
       "    <tr>\n",
       "      <th>1</th>\n",
       "      <td>1</td>\n",
       "      <td>37207</td>\n",
       "      <td>45</td>\n",
       "      <td>8</td>\n",
       "      <td>0</td>\n",
       "      <td>1</td>\n",
       "      <td>0</td>\n",
       "    </tr>\n",
       "    <tr>\n",
       "      <th>2</th>\n",
       "      <td>0</td>\n",
       "      <td>58022</td>\n",
       "      <td>46</td>\n",
       "      <td>9</td>\n",
       "      <td>0</td>\n",
       "      <td>0</td>\n",
       "      <td>0</td>\n",
       "    </tr>\n",
       "    <tr>\n",
       "      <th>3</th>\n",
       "      <td>0</td>\n",
       "      <td>66503</td>\n",
       "      <td>31</td>\n",
       "      <td>11</td>\n",
       "      <td>2</td>\n",
       "      <td>0</td>\n",
       "      <td>0</td>\n",
       "    </tr>\n",
       "    <tr>\n",
       "      <th>4</th>\n",
       "      <td>0</td>\n",
       "      <td>66734</td>\n",
       "      <td>44</td>\n",
       "      <td>12</td>\n",
       "      <td>0</td>\n",
       "      <td>2</td>\n",
       "      <td>0</td>\n",
       "    </tr>\n",
       "  </tbody>\n",
       "</table>\n",
       "</div>"
      ],
      "text/plain": [
       "   Holliday_Package  Salary  age  educ  no_young_children  no_older_children  \\\n",
       "0                 0   48412   30     8                  1                  1   \n",
       "1                 1   37207   45     8                  0                  1   \n",
       "2                 0   58022   46     9                  0                  0   \n",
       "3                 0   66503   31    11                  2                  0   \n",
       "4                 0   66734   44    12                  0                  2   \n",
       "\n",
       "   foreign  \n",
       "0        0  \n",
       "1        0  \n",
       "2        0  \n",
       "3        0  \n",
       "4        0  "
      ]
     },
     "execution_count": 1151,
     "metadata": {},
     "output_type": "execute_result"
    }
   ],
   "source": [
    "df1.head()"
   ]
  },
  {
   "cell_type": "code",
   "execution_count": 1152,
   "id": "dbe64473",
   "metadata": {
    "scrolled": true
   },
   "outputs": [
    {
     "data": {
      "text/html": [
       "<div>\n",
       "<style scoped>\n",
       "    .dataframe tbody tr th:only-of-type {\n",
       "        vertical-align: middle;\n",
       "    }\n",
       "\n",
       "    .dataframe tbody tr th {\n",
       "        vertical-align: top;\n",
       "    }\n",
       "\n",
       "    .dataframe thead th {\n",
       "        text-align: right;\n",
       "    }\n",
       "</style>\n",
       "<table border=\"1\" class=\"dataframe\">\n",
       "  <thead>\n",
       "    <tr style=\"text-align: right;\">\n",
       "      <th></th>\n",
       "      <th>count</th>\n",
       "      <th>mean</th>\n",
       "      <th>std</th>\n",
       "      <th>min</th>\n",
       "      <th>25%</th>\n",
       "      <th>50%</th>\n",
       "      <th>75%</th>\n",
       "      <th>max</th>\n",
       "    </tr>\n",
       "  </thead>\n",
       "  <tbody>\n",
       "    <tr>\n",
       "      <th>Holliday_Package</th>\n",
       "      <td>872.0</td>\n",
       "      <td>0.459862</td>\n",
       "      <td>0.498672</td>\n",
       "      <td>0.0</td>\n",
       "      <td>0.0</td>\n",
       "      <td>0.0</td>\n",
       "      <td>1.0</td>\n",
       "      <td>1.0</td>\n",
       "    </tr>\n",
       "    <tr>\n",
       "      <th>Salary</th>\n",
       "      <td>872.0</td>\n",
       "      <td>47729.172018</td>\n",
       "      <td>23418.668531</td>\n",
       "      <td>1322.0</td>\n",
       "      <td>35324.0</td>\n",
       "      <td>41903.5</td>\n",
       "      <td>53469.5</td>\n",
       "      <td>236961.0</td>\n",
       "    </tr>\n",
       "    <tr>\n",
       "      <th>age</th>\n",
       "      <td>872.0</td>\n",
       "      <td>39.955275</td>\n",
       "      <td>10.551675</td>\n",
       "      <td>20.0</td>\n",
       "      <td>32.0</td>\n",
       "      <td>39.0</td>\n",
       "      <td>48.0</td>\n",
       "      <td>62.0</td>\n",
       "    </tr>\n",
       "    <tr>\n",
       "      <th>educ</th>\n",
       "      <td>872.0</td>\n",
       "      <td>9.307339</td>\n",
       "      <td>3.036259</td>\n",
       "      <td>1.0</td>\n",
       "      <td>8.0</td>\n",
       "      <td>9.0</td>\n",
       "      <td>12.0</td>\n",
       "      <td>21.0</td>\n",
       "    </tr>\n",
       "    <tr>\n",
       "      <th>no_young_children</th>\n",
       "      <td>872.0</td>\n",
       "      <td>0.311927</td>\n",
       "      <td>0.612870</td>\n",
       "      <td>0.0</td>\n",
       "      <td>0.0</td>\n",
       "      <td>0.0</td>\n",
       "      <td>0.0</td>\n",
       "      <td>3.0</td>\n",
       "    </tr>\n",
       "    <tr>\n",
       "      <th>no_older_children</th>\n",
       "      <td>872.0</td>\n",
       "      <td>0.982798</td>\n",
       "      <td>1.086786</td>\n",
       "      <td>0.0</td>\n",
       "      <td>0.0</td>\n",
       "      <td>1.0</td>\n",
       "      <td>2.0</td>\n",
       "      <td>6.0</td>\n",
       "    </tr>\n",
       "    <tr>\n",
       "      <th>foreign</th>\n",
       "      <td>872.0</td>\n",
       "      <td>0.247706</td>\n",
       "      <td>0.431928</td>\n",
       "      <td>0.0</td>\n",
       "      <td>0.0</td>\n",
       "      <td>0.0</td>\n",
       "      <td>0.0</td>\n",
       "      <td>1.0</td>\n",
       "    </tr>\n",
       "  </tbody>\n",
       "</table>\n",
       "</div>"
      ],
      "text/plain": [
       "                   count          mean           std     min      25%  \\\n",
       "Holliday_Package   872.0      0.459862      0.498672     0.0      0.0   \n",
       "Salary             872.0  47729.172018  23418.668531  1322.0  35324.0   \n",
       "age                872.0     39.955275     10.551675    20.0     32.0   \n",
       "educ               872.0      9.307339      3.036259     1.0      8.0   \n",
       "no_young_children  872.0      0.311927      0.612870     0.0      0.0   \n",
       "no_older_children  872.0      0.982798      1.086786     0.0      0.0   \n",
       "foreign            872.0      0.247706      0.431928     0.0      0.0   \n",
       "\n",
       "                       50%      75%       max  \n",
       "Holliday_Package       0.0      1.0       1.0  \n",
       "Salary             41903.5  53469.5  236961.0  \n",
       "age                   39.0     48.0      62.0  \n",
       "educ                   9.0     12.0      21.0  \n",
       "no_young_children      0.0      0.0       3.0  \n",
       "no_older_children      1.0      2.0       6.0  \n",
       "foreign                0.0      0.0       1.0  "
      ]
     },
     "execution_count": 1152,
     "metadata": {},
     "output_type": "execute_result"
    }
   ],
   "source": [
    "df1.describe().T"
   ]
  },
  {
   "cell_type": "code",
   "execution_count": 1153,
   "id": "93086eeb",
   "metadata": {
    "scrolled": true
   },
   "outputs": [
    {
     "data": {
      "text/html": [
       "<div>\n",
       "<style scoped>\n",
       "    .dataframe tbody tr th:only-of-type {\n",
       "        vertical-align: middle;\n",
       "    }\n",
       "\n",
       "    .dataframe tbody tr th {\n",
       "        vertical-align: top;\n",
       "    }\n",
       "\n",
       "    .dataframe thead th {\n",
       "        text-align: right;\n",
       "    }\n",
       "</style>\n",
       "<table border=\"1\" class=\"dataframe\">\n",
       "  <thead>\n",
       "    <tr style=\"text-align: right;\">\n",
       "      <th></th>\n",
       "      <th>Holliday_Package</th>\n",
       "    </tr>\n",
       "  </thead>\n",
       "  <tbody>\n",
       "    <tr>\n",
       "      <th>0</th>\n",
       "      <td>0.54</td>\n",
       "    </tr>\n",
       "    <tr>\n",
       "      <th>1</th>\n",
       "      <td>0.46</td>\n",
       "    </tr>\n",
       "  </tbody>\n",
       "</table>\n",
       "</div>"
      ],
      "text/plain": [
       "   Holliday_Package\n",
       "0              0.54\n",
       "1              0.46"
      ]
     },
     "execution_count": 1153,
     "metadata": {},
     "output_type": "execute_result"
    }
   ],
   "source": [
    "pd.DataFrame(round(df1['Holliday_Package'].value_counts(normalize=True),2))"
   ]
  },
  {
   "cell_type": "code",
   "execution_count": 1154,
   "id": "8f352b56",
   "metadata": {},
   "outputs": [
    {
     "data": {
      "text/plain": [
       "Index(['Holliday_Package', 'Salary', 'age', 'educ', 'no_young_children',\n",
       "       'no_older_children', 'foreign'],\n",
       "      dtype='object')"
      ]
     },
     "execution_count": 1154,
     "metadata": {},
     "output_type": "execute_result"
    }
   ],
   "source": [
    "df1.columns"
   ]
  },
  {
   "cell_type": "code",
   "execution_count": 1155,
   "id": "6dae341d",
   "metadata": {},
   "outputs": [],
   "source": [
    "from sklearn.model_selection import train_test_split,GridSearchCV\n",
    "from sklearn.linear_model import LogisticRegression\n",
    "from sklearn import metrics\n",
    "from sklearn.metrics import roc_auc_score,roc_curve,classification_report,confusion_matrix,plot_confusion_matrix"
   ]
  },
  {
   "cell_type": "code",
   "execution_count": 1156,
   "id": "a9bb13ea",
   "metadata": {},
   "outputs": [],
   "source": [
    "# Copy all the predictor variables into X dataframe\n",
    "X = df1.drop('Holliday_Package', axis=1)\n",
    "\n",
    "# Copy target into the y dataframe. \n",
    "y = df1['Holliday_Package']"
   ]
  },
  {
   "cell_type": "code",
   "execution_count": 1157,
   "id": "4884f505",
   "metadata": {},
   "outputs": [],
   "source": [
    "# Split X and y into training and test set in 70:30 ratio\n",
    "X_train, X_test, y_train, y_test = train_test_split(X, y, test_size=0.30 , random_state=1,stratify=df1['Holliday_Package'])"
   ]
  },
  {
   "cell_type": "code",
   "execution_count": 1158,
   "id": "d0e3566a",
   "metadata": {
    "scrolled": false
   },
   "outputs": [
    {
     "name": "stdout",
     "output_type": "stream",
     "text": [
      "X_train_1 (610, 6)\n",
      "X_test_1 (262, 6)\n",
      "Y_train_1 (610,)\n",
      "Y_test_1 (262,)\n"
     ]
    }
   ],
   "source": [
    "print('X_train_1',X_train.shape)\n",
    "print('X_test_1',X_test.shape)\n",
    "print('Y_train_1',y_train.shape)\n",
    "print('Y_test_1',y_test.shape)"
   ]
  },
  {
   "cell_type": "code",
   "execution_count": 1159,
   "id": "84da1cc1",
   "metadata": {},
   "outputs": [],
   "source": [
    "param_grid = {\n",
    "  'solver':['newton-cg','liblinear','lbfgs'],\n",
    "    'max_iter':[10000,15000],\n",
    "    'penalty':['l2','none','l1'],\n",
    "    'verbose':[True],\n",
    "    'n_jobs':[2],\n",
    "    'tol':[0.001,0.00000001],\n",
    "}\n",
    "\n",
    "dtcl = LogisticRegression(random_state=1)\n",
    "\n",
    "grid_search = GridSearchCV(estimator = dtcl, param_grid = param_grid, cv = 3)"
   ]
  },
  {
   "cell_type": "code",
   "execution_count": 1160,
   "id": "861b79a9",
   "metadata": {
    "scrolled": true
   },
   "outputs": [
    {
     "name": "stderr",
     "output_type": "stream",
     "text": [
      "[Parallel(n_jobs=2)]: Using backend LokyBackend with 2 concurrent workers.\n",
      "[Parallel(n_jobs=2)]: Done   1 out of   1 | elapsed:    0.8s finished\n",
      "[Parallel(n_jobs=2)]: Using backend LokyBackend with 2 concurrent workers.\n",
      "[Parallel(n_jobs=2)]: Done   1 out of   1 | elapsed:    0.5s finished\n",
      "[Parallel(n_jobs=2)]: Using backend LokyBackend with 2 concurrent workers.\n",
      "[Parallel(n_jobs=2)]: Done   1 out of   1 | elapsed:    0.0s finished\n",
      "[Parallel(n_jobs=2)]: Using backend LokyBackend with 2 concurrent workers.\n",
      "[Parallel(n_jobs=2)]: Done   1 out of   1 | elapsed:    0.1s finished\n",
      "[Parallel(n_jobs=2)]: Using backend LokyBackend with 2 concurrent workers.\n",
      "[Parallel(n_jobs=2)]: Done   1 out of   1 | elapsed:    0.0s finished\n",
      "[Parallel(n_jobs=2)]: Using backend LokyBackend with 2 concurrent workers.\n",
      "[Parallel(n_jobs=2)]: Done   1 out of   1 | elapsed:    0.0s finished\n",
      "[Parallel(n_jobs=2)]: Using backend LokyBackend with 2 concurrent workers.\n",
      "[Parallel(n_jobs=2)]: Done   1 out of   1 | elapsed:    0.0s finished\n",
      "[Parallel(n_jobs=2)]: Using backend LokyBackend with 2 concurrent workers.\n",
      "[Parallel(n_jobs=2)]: Done   1 out of   1 | elapsed:    0.0s finished\n",
      "[Parallel(n_jobs=2)]: Using backend LokyBackend with 2 concurrent workers.\n",
      "[Parallel(n_jobs=2)]: Done   1 out of   1 | elapsed:    0.0s finished\n",
      "[Parallel(n_jobs=2)]: Using backend LokyBackend with 2 concurrent workers.\n",
      "[Parallel(n_jobs=2)]: Done   1 out of   1 | elapsed:    0.0s finished\n",
      "[Parallel(n_jobs=2)]: Using backend LokyBackend with 2 concurrent workers.\n",
      "[Parallel(n_jobs=2)]: Done   1 out of   1 | elapsed:    0.0s finished\n",
      "[Parallel(n_jobs=2)]: Using backend LokyBackend with 2 concurrent workers.\n",
      "[Parallel(n_jobs=2)]: Done   1 out of   1 | elapsed:    0.0s finished\n",
      "[Parallel(n_jobs=2)]: Using backend LokyBackend with 2 concurrent workers.\n"
     ]
    },
    {
     "name": "stdout",
     "output_type": "stream",
     "text": [
      "[LibLinear][LibLinear][LibLinear][LibLinear][LibLinear][LibLinear]"
     ]
    },
    {
     "name": "stderr",
     "output_type": "stream",
     "text": [
      "[Parallel(n_jobs=2)]: Done   1 out of   1 | elapsed:    0.0s finished\n",
      "[Parallel(n_jobs=2)]: Using backend LokyBackend with 2 concurrent workers.\n",
      "[Parallel(n_jobs=2)]: Done   1 out of   1 | elapsed:    0.1s finished\n",
      "[Parallel(n_jobs=2)]: Using backend LokyBackend with 2 concurrent workers.\n",
      "[Parallel(n_jobs=2)]: Done   1 out of   1 | elapsed:    0.0s finished\n",
      "[Parallel(n_jobs=2)]: Using backend LokyBackend with 2 concurrent workers.\n",
      "[Parallel(n_jobs=2)]: Done   1 out of   1 | elapsed:    0.0s finished\n",
      "[Parallel(n_jobs=2)]: Using backend LokyBackend with 2 concurrent workers.\n",
      "[Parallel(n_jobs=2)]: Done   1 out of   1 | elapsed:    0.1s finished\n",
      "[Parallel(n_jobs=2)]: Using backend LokyBackend with 2 concurrent workers.\n",
      "[Parallel(n_jobs=2)]: Done   1 out of   1 | elapsed:    0.0s finished\n",
      "[Parallel(n_jobs=2)]: Using backend LokyBackend with 2 concurrent workers.\n",
      "[Parallel(n_jobs=2)]: Done   1 out of   1 | elapsed:    0.0s finished\n",
      "[Parallel(n_jobs=2)]: Using backend LokyBackend with 2 concurrent workers.\n",
      "[Parallel(n_jobs=2)]: Done   1 out of   1 | elapsed:    0.0s finished\n",
      "[Parallel(n_jobs=2)]: Using backend LokyBackend with 2 concurrent workers.\n",
      "[Parallel(n_jobs=2)]: Done   1 out of   1 | elapsed:    0.0s finished\n",
      "[Parallel(n_jobs=2)]: Using backend LokyBackend with 2 concurrent workers.\n",
      "[Parallel(n_jobs=2)]: Done   1 out of   1 | elapsed:    0.0s finished\n",
      "[Parallel(n_jobs=2)]: Using backend LokyBackend with 2 concurrent workers.\n",
      "[Parallel(n_jobs=2)]: Done   1 out of   1 | elapsed:    0.0s finished\n",
      "[Parallel(n_jobs=2)]: Using backend LokyBackend with 2 concurrent workers.\n",
      "[Parallel(n_jobs=2)]: Done   1 out of   1 | elapsed:    0.0s finished\n",
      "[Parallel(n_jobs=2)]: Using backend LokyBackend with 2 concurrent workers.\n"
     ]
    },
    {
     "name": "stdout",
     "output_type": "stream",
     "text": [
      "[LibLinear][LibLinear][LibLinear][LibLinear][LibLinear][LibLinear]"
     ]
    },
    {
     "name": "stderr",
     "output_type": "stream",
     "text": [
      "[Parallel(n_jobs=2)]: Done   1 out of   1 | elapsed:    0.0s finished\n",
      "[Parallel(n_jobs=2)]: Using backend LokyBackend with 2 concurrent workers.\n",
      "[Parallel(n_jobs=2)]: Done   1 out of   1 | elapsed:    0.0s finished\n",
      "[Parallel(n_jobs=2)]: Using backend LokyBackend with 2 concurrent workers.\n",
      "[Parallel(n_jobs=2)]: Done   1 out of   1 | elapsed:    0.0s finished\n",
      "[Parallel(n_jobs=2)]: Using backend LokyBackend with 2 concurrent workers.\n",
      "[Parallel(n_jobs=2)]: Done   1 out of   1 | elapsed:    0.1s finished\n",
      "[Parallel(n_jobs=2)]: Using backend LokyBackend with 2 concurrent workers.\n",
      "[Parallel(n_jobs=2)]: Done   1 out of   1 | elapsed:    0.0s finished\n",
      "[Parallel(n_jobs=2)]: Using backend LokyBackend with 2 concurrent workers.\n",
      "[Parallel(n_jobs=2)]: Done   1 out of   1 | elapsed:    0.0s finished\n",
      "[Parallel(n_jobs=2)]: Using backend LokyBackend with 2 concurrent workers.\n",
      "[Parallel(n_jobs=2)]: Done   1 out of   1 | elapsed:    0.0s finished\n",
      "[Parallel(n_jobs=2)]: Using backend LokyBackend with 2 concurrent workers.\n",
      "[Parallel(n_jobs=2)]: Done   1 out of   1 | elapsed:    0.0s finished\n"
     ]
    },
    {
     "name": "stdout",
     "output_type": "stream",
     "text": [
      "[LibLinear][LibLinear][LibLinear][LibLinear][LibLinear][LibLinear]"
     ]
    },
    {
     "name": "stderr",
     "output_type": "stream",
     "text": [
      "[Parallel(n_jobs=2)]: Using backend LokyBackend with 2 concurrent workers.\n",
      "[Parallel(n_jobs=2)]: Done   1 out of   1 | elapsed:    0.0s finished\n",
      "[Parallel(n_jobs=2)]: Using backend LokyBackend with 2 concurrent workers.\n",
      "[Parallel(n_jobs=2)]: Done   1 out of   1 | elapsed:    0.0s finished\n",
      "[Parallel(n_jobs=2)]: Using backend LokyBackend with 2 concurrent workers.\n",
      "[Parallel(n_jobs=2)]: Done   1 out of   1 | elapsed:    0.0s finished\n",
      "[Parallel(n_jobs=2)]: Using backend LokyBackend with 2 concurrent workers.\n",
      "[Parallel(n_jobs=2)]: Done   1 out of   1 | elapsed:    0.0s finished\n",
      "[Parallel(n_jobs=2)]: Using backend LokyBackend with 2 concurrent workers.\n",
      "[Parallel(n_jobs=2)]: Done   1 out of   1 | elapsed:    0.0s finished\n",
      "[Parallel(n_jobs=2)]: Using backend LokyBackend with 2 concurrent workers.\n",
      "[Parallel(n_jobs=2)]: Done   1 out of   1 | elapsed:    0.1s finished\n",
      "[Parallel(n_jobs=2)]: Using backend LokyBackend with 2 concurrent workers.\n",
      "[Parallel(n_jobs=2)]: Done   1 out of   1 | elapsed:    0.0s finished\n",
      "[Parallel(n_jobs=2)]: Using backend LokyBackend with 2 concurrent workers.\n",
      "[Parallel(n_jobs=2)]: Done   1 out of   1 | elapsed:    0.0s finished\n",
      "[Parallel(n_jobs=2)]: Using backend LokyBackend with 2 concurrent workers.\n",
      "[Parallel(n_jobs=2)]: Done   1 out of   1 | elapsed:    0.1s finished\n",
      "[Parallel(n_jobs=2)]: Using backend LokyBackend with 2 concurrent workers.\n"
     ]
    },
    {
     "name": "stdout",
     "output_type": "stream",
     "text": [
      "[LibLinear][LibLinear][LibLinear][LibLinear][LibLinear][LibLinear][LibLinear]"
     ]
    },
    {
     "name": "stderr",
     "output_type": "stream",
     "text": [
      "[Parallel(n_jobs=2)]: Done   1 out of   1 | elapsed:    0.0s finished\n",
      "[Parallel(n_jobs=2)]: Using backend LokyBackend with 2 concurrent workers.\n",
      "[Parallel(n_jobs=2)]: Done   1 out of   1 | elapsed:    0.0s finished\n",
      "[Parallel(n_jobs=2)]: Using backend LokyBackend with 2 concurrent workers.\n",
      "[Parallel(n_jobs=2)]: Done   1 out of   1 | elapsed:    0.0s finished\n",
      "[Parallel(n_jobs=2)]: Using backend LokyBackend with 2 concurrent workers.\n",
      "[Parallel(n_jobs=2)]: Done   1 out of   1 | elapsed:    0.0s finished\n",
      "[Parallel(n_jobs=2)]: Using backend LokyBackend with 2 concurrent workers.\n",
      "[Parallel(n_jobs=2)]: Done   1 out of   1 | elapsed:    0.0s finished\n",
      "[Parallel(n_jobs=2)]: Using backend LokyBackend with 2 concurrent workers.\n",
      "[Parallel(n_jobs=2)]: Done   1 out of   1 | elapsed:    0.0s finished\n",
      "[Parallel(n_jobs=2)]: Using backend LokyBackend with 2 concurrent workers.\n",
      "[Parallel(n_jobs=2)]: Done   1 out of   1 | elapsed:    0.0s finished\n"
     ]
    },
    {
     "data": {
      "text/plain": [
       "GridSearchCV(cv=3, estimator=LogisticRegression(random_state=1),\n",
       "             param_grid={'max_iter': [10000, 15000], 'n_jobs': [2],\n",
       "                         'penalty': ['l2', 'none', 'l1'],\n",
       "                         'solver': ['newton-cg', 'liblinear', 'lbfgs'],\n",
       "                         'tol': [0.001, 1e-08], 'verbose': [True]})"
      ]
     },
     "execution_count": 1160,
     "metadata": {},
     "output_type": "execute_result"
    }
   ],
   "source": [
    "grid_search.fit(X_train, y_train)"
   ]
  },
  {
   "cell_type": "code",
   "execution_count": 1161,
   "id": "a22b20f7",
   "metadata": {},
   "outputs": [
    {
     "data": {
      "text/plain": [
       "LogisticRegression(max_iter=10000, n_jobs=2, penalty='l1', random_state=1,\n",
       "                   solver='liblinear', tol=1e-08, verbose=True)"
      ]
     },
     "execution_count": 1161,
     "metadata": {},
     "output_type": "execute_result"
    }
   ],
   "source": [
    "best_grid = grid_search.best_estimator_\n",
    "best_grid"
   ]
  },
  {
   "cell_type": "code",
   "execution_count": 1162,
   "id": "e28cc7d3",
   "metadata": {
    "ExecuteTime": {
     "end_time": "2021-03-01T11:06:50.288670Z",
     "start_time": "2021-03-01T11:06:50.274708Z"
    },
    "colab": {},
    "colab_type": "code",
    "id": "pTV-GEDPXLz4"
   },
   "outputs": [],
   "source": [
    "ytrain_predict = best_grid.predict(X_train)\n",
    "ytest_predict = best_grid.predict(X_test)"
   ]
  },
  {
   "cell_type": "code",
   "execution_count": 1163,
   "id": "0ddcd6f8",
   "metadata": {},
   "outputs": [
    {
     "name": "stdout",
     "output_type": "stream",
     "text": [
      "The coefficient for Salary is -1.6088717566770156e-05\n",
      "The coefficient for age is -0.04977888040047271\n",
      "The coefficient for educ is 0.06809199197180006\n",
      "The coefficient for no_young_children is -1.226457876057361\n",
      "The coefficient for no_older_children is -0.010272545996478099\n",
      "The coefficient for foreign is 1.248742465494623\n"
     ]
    }
   ],
   "source": [
    "for idx, col_name in enumerate(X_train.columns):\n",
    "    print(\"The coefficient for {} is {}\".format(col_name, best_grid.coef_[0][idx]))"
   ]
  },
  {
   "cell_type": "markdown",
   "id": "4aa6c94d",
   "metadata": {
    "colab_type": "text",
    "id": "qPHLDmcvXL0A"
   },
   "source": [
    "### Getting the Predicted Classes and Probs"
   ]
  },
  {
   "cell_type": "code",
   "execution_count": 1164,
   "id": "d2fef33b",
   "metadata": {
    "ExecuteTime": {
     "end_time": "2021-03-01T11:06:50.383418Z",
     "start_time": "2021-03-01T11:06:50.290666Z"
    },
    "colab": {},
    "colab_type": "code",
    "id": "ClH1gIilXL0C",
    "outputId": "fe169bf0-67c7-466e-ea4e-fffdd71b83aa"
   },
   "outputs": [
    {
     "data": {
      "text/html": [
       "<div>\n",
       "<style scoped>\n",
       "    .dataframe tbody tr th:only-of-type {\n",
       "        vertical-align: middle;\n",
       "    }\n",
       "\n",
       "    .dataframe tbody tr th {\n",
       "        vertical-align: top;\n",
       "    }\n",
       "\n",
       "    .dataframe thead th {\n",
       "        text-align: right;\n",
       "    }\n",
       "</style>\n",
       "<table border=\"1\" class=\"dataframe\">\n",
       "  <thead>\n",
       "    <tr style=\"text-align: right;\">\n",
       "      <th></th>\n",
       "      <th>0</th>\n",
       "      <th>1</th>\n",
       "    </tr>\n",
       "  </thead>\n",
       "  <tbody>\n",
       "    <tr>\n",
       "      <th>0</th>\n",
       "      <td>0.677210</td>\n",
       "      <td>0.322790</td>\n",
       "    </tr>\n",
       "    <tr>\n",
       "      <th>1</th>\n",
       "      <td>0.565096</td>\n",
       "      <td>0.434904</td>\n",
       "    </tr>\n",
       "    <tr>\n",
       "      <th>2</th>\n",
       "      <td>0.688802</td>\n",
       "      <td>0.311198</td>\n",
       "    </tr>\n",
       "    <tr>\n",
       "      <th>3</th>\n",
       "      <td>0.516298</td>\n",
       "      <td>0.483702</td>\n",
       "    </tr>\n",
       "    <tr>\n",
       "      <th>4</th>\n",
       "      <td>0.545854</td>\n",
       "      <td>0.454146</td>\n",
       "    </tr>\n",
       "  </tbody>\n",
       "</table>\n",
       "</div>"
      ],
      "text/plain": [
       "          0         1\n",
       "0  0.677210  0.322790\n",
       "1  0.565096  0.434904\n",
       "2  0.688802  0.311198\n",
       "3  0.516298  0.483702\n",
       "4  0.545854  0.454146"
      ]
     },
     "execution_count": 1164,
     "metadata": {},
     "output_type": "execute_result"
    }
   ],
   "source": [
    "ytest_predict_prob=best_grid.predict_proba(X_test)\n",
    "pd.DataFrame(ytest_predict_prob).head()"
   ]
  },
  {
   "cell_type": "markdown",
   "id": "92021090",
   "metadata": {
    "colab_type": "text",
    "id": "6fyksw9dXL0L"
   },
   "source": [
    "## Model Evaluation"
   ]
  },
  {
   "cell_type": "code",
   "execution_count": 1165,
   "id": "3d1157e5",
   "metadata": {
    "ExecuteTime": {
     "end_time": "2021-03-01T11:06:50.522047Z",
     "start_time": "2021-03-01T11:06:50.384415Z"
    },
    "colab": {},
    "colab_type": "code",
    "id": "JG5YkoOTXL0M",
    "outputId": "0e537710-1626-49fe-b05b-a1c35459b54b"
   },
   "outputs": [
    {
     "data": {
      "text/plain": [
       "0.6672131147540984"
      ]
     },
     "execution_count": 1165,
     "metadata": {},
     "output_type": "execute_result"
    }
   ],
   "source": [
    "# Accuracy - Training Data\n",
    "best_grid.score(X_train, y_train)"
   ]
  },
  {
   "cell_type": "markdown",
   "id": "5088ff5e",
   "metadata": {
    "colab_type": "text",
    "id": "JB0l0y12XL0S"
   },
   "source": [
    "### AUC and ROC for the training data"
   ]
  },
  {
   "cell_type": "code",
   "execution_count": 1166,
   "id": "8cb5fb53",
   "metadata": {
    "ExecuteTime": {
     "end_time": "2021-03-01T11:06:50.771381Z",
     "start_time": "2021-03-01T11:06:50.523044Z"
    },
    "colab": {},
    "colab_type": "code",
    "id": "OWU1VW_DXL0U",
    "outputId": "8ea5e1fe-b3cc-4386-dd0d-7a3c6aa23d48"
   },
   "outputs": [
    {
     "name": "stdout",
     "output_type": "stream",
     "text": [
      "AUC: 0.735\n"
     ]
    },
    {
     "data": {
      "image/png": "[encoded data removed]",
      "text/plain": [
       "<Figure size 432x288 with 1 Axes>"
      ]
     },
     "metadata": {
      "needs_background": "light"
     },
     "output_type": "display_data"
    }
   ],
   "source": [
    "# predict probabilities\n",
    "lr_probs_train = best_grid.predict_proba(X_train)\n",
    "# keep probabilities for the positive outcome only\n",
    "lr_probs = lr_probs_train[:, 1]\n",
    "# calculate AUC\n",
    "lr_train_auc = roc_auc_score(y_train, lr_probs)\n",
    "print('AUC: %.3f' % lr_train_auc)\n",
    "# calculate roc curve\n",
    "lr_train_fpr, lr_train_tpr, lr_train_thresholds = roc_curve(y_train, lr_probs)\n",
    "plt.plot([0, 1], [0, 1], linestyle='--')\n",
    "# plot the roc curve for the model\n",
    "plt.plot(lr_train_fpr, lr_train_tpr);\n",
    "plt.title('ROC for Train Data')\n",
    "plt.show()"
   ]
  },
  {
   "cell_type": "code",
   "execution_count": 1167,
   "id": "2fbf4a4d",
   "metadata": {
    "ExecuteTime": {
     "end_time": "2021-03-01T11:06:50.783349Z",
     "start_time": "2021-03-01T11:06:50.773375Z"
    },
    "colab": {},
    "colab_type": "code",
    "id": "weSpIESCXL0a",
    "outputId": "115b3609-d00d-488a-c00e-6bab38a59baa"
   },
   "outputs": [
    {
     "data": {
      "text/plain": [
       "0.6603053435114504"
      ]
     },
     "execution_count": 1167,
     "metadata": {},
     "output_type": "execute_result"
    }
   ],
   "source": [
    "# Accuracy - Test Data\n",
    "best_grid.score(X_test, y_test)"
   ]
  },
  {
   "cell_type": "markdown",
   "id": "a37ab251",
   "metadata": {
    "colab_type": "text",
    "id": "3fKTZGD6XL0j"
   },
   "source": [
    "### AUC and ROC for the test data"
   ]
  },
  {
   "cell_type": "code",
   "execution_count": 1168,
   "id": "a7e1df3e",
   "metadata": {
    "ExecuteTime": {
     "end_time": "2021-03-01T11:06:51.060607Z",
     "start_time": "2021-03-01T11:06:50.785342Z"
    },
    "colab": {},
    "colab_type": "code",
    "id": "sGA-6IxaXL0m",
    "outputId": "0b884c66-7362-4694-e72b-460e55e54525"
   },
   "outputs": [
    {
     "name": "stdout",
     "output_type": "stream",
     "text": [
      "AUC: 0.718\n"
     ]
    },
    {
     "data": {
      "image/png": "[encoded data removed]",
      "text/plain": [
       "<Figure size 432x288 with 1 Axes>"
      ]
     },
     "metadata": {
      "needs_background": "light"
     },
     "output_type": "display_data"
    }
   ],
   "source": [
    "# predict probabilities\n",
    "lr_probs_test = best_grid.predict_proba(X_test)\n",
    "# keep probabilities for the positive outcome only\n",
    "lr_probs1 = lr_probs_test[:, 1]\n",
    "# calculate AUC\n",
    "lr_test_auc = roc_auc_score(y_test, lr_probs1)\n",
    "print('AUC: %.3f' % lr_test_auc)\n",
    "# calculate roc curve\n",
    "lr_test_fpr, lr_test_tpr, lr_test_thresholds = roc_curve(y_test, lr_probs1)\n",
    "plt.plot([0, 1], [0, 1], linestyle='--')\n",
    "# plot the roc curve for the model\n",
    "plt.plot(lr_test_fpr, lr_test_tpr);\n",
    "plt.title('ROC for Test data')\n",
    "plt.show()"
   ]
  },
  {
   "cell_type": "markdown",
   "id": "6ca96195",
   "metadata": {
    "colab_type": "text",
    "id": "h-1AWIJaXL0z"
   },
   "source": [
    "### Confusion Matrix for the training data"
   ]
  },
  {
   "cell_type": "code",
   "execution_count": 1169,
   "id": "0189043c",
   "metadata": {
    "ExecuteTime": {
     "end_time": "2021-03-01T11:06:51.090527Z",
     "start_time": "2021-03-01T11:06:51.062600Z"
    }
   },
   "outputs": [
    {
     "data": {
      "text/plain": [
       "array([[247,  82],\n",
       "       [121, 160]], dtype=int64)"
      ]
     },
     "execution_count": 1169,
     "metadata": {},
     "output_type": "execute_result"
    }
   ],
   "source": [
    "confusion_matrix(y_train, ytrain_predict)"
   ]
  },
  {
   "cell_type": "code",
   "execution_count": 1170,
   "id": "54f33c00",
   "metadata": {
    "ExecuteTime": {
     "end_time": "2021-03-01T11:06:51.329924Z",
     "start_time": "2021-03-01T11:06:51.092520Z"
    }
   },
   "outputs": [
    {
     "data": {
      "image/png": "[encoded data removed]",
      "text/plain": [
       "<Figure size 432x288 with 2 Axes>"
      ]
     },
     "metadata": {
      "needs_background": "light"
     },
     "output_type": "display_data"
    }
   ],
   "source": [
    "plot_confusion_matrix(best_grid,X_train,y_train);\n",
    "plt.title('Train Data')\n",
    "plt.show()"
   ]
  },
  {
   "cell_type": "code",
   "execution_count": 1171,
   "id": "42095159",
   "metadata": {
    "ExecuteTime": {
     "end_time": "2021-03-01T11:06:51.382744Z",
     "start_time": "2021-03-01T11:06:51.330882Z"
    },
    "colab": {},
    "colab_type": "code",
    "id": "0JsOdRO-XL07",
    "outputId": "d4d8637b-5649-408c-b497-57c1f0fdc91f"
   },
   "outputs": [
    {
     "name": "stdout",
     "output_type": "stream",
     "text": [
      "              precision    recall  f1-score   support\n",
      "\n",
      "           0       0.67      0.75      0.71       329\n",
      "           1       0.66      0.57      0.61       281\n",
      "\n",
      "    accuracy                           0.67       610\n",
      "   macro avg       0.67      0.66      0.66       610\n",
      "weighted avg       0.67      0.67      0.66       610\n",
      "\n"
     ]
    }
   ],
   "source": [
    "print(classification_report(y_train, ytrain_predict))"
   ]
  },
  {
   "cell_type": "markdown",
   "id": "c87680a0",
   "metadata": {
    "colab_type": "text",
    "id": "2izdT6sxXL1C"
   },
   "source": [
    "### Confusion Matrix for test data"
   ]
  },
  {
   "cell_type": "code",
   "execution_count": 1172,
   "id": "885e4fb5",
   "metadata": {
    "ExecuteTime": {
     "end_time": "2021-03-01T11:06:51.513405Z",
     "start_time": "2021-03-01T11:06:51.383741Z"
    },
    "colab": {},
    "colab_type": "code",
    "id": "MYv8v5BOXL1E",
    "outputId": "f855f65a-e079-4153-daf8-bd9f9678a92c"
   },
   "outputs": [
    {
     "data": {
      "text/plain": [
       "array([[110,  32],\n",
       "       [ 57,  63]], dtype=int64)"
      ]
     },
     "execution_count": 1172,
     "metadata": {},
     "output_type": "execute_result"
    }
   ],
   "source": [
    "confusion_matrix(y_test, ytest_predict)"
   ]
  },
  {
   "cell_type": "code",
   "execution_count": 1173,
   "id": "8d1dcfbd",
   "metadata": {
    "ExecuteTime": {
     "end_time": "2021-03-01T11:06:51.900361Z",
     "start_time": "2021-03-01T11:06:51.519382Z"
    },
    "scrolled": true
   },
   "outputs": [
    {
     "data": {
      "image/png": "[encoded data removed]",
      "text/plain": [
       "<Figure size 432x288 with 2 Axes>"
      ]
     },
     "metadata": {
      "needs_background": "light"
     },
     "output_type": "display_data"
    }
   ],
   "source": [
    "plot_confusion_matrix(best_grid,X_test,y_test);\n",
    "plt.title('Test Data')\n",
    "plt.show()"
   ]
  },
  {
   "cell_type": "code",
   "execution_count": 1174,
   "id": "e43e86cd",
   "metadata": {
    "ExecuteTime": {
     "end_time": "2021-03-01T11:06:51.919309Z",
     "start_time": "2021-03-01T11:06:51.901359Z"
    },
    "colab": {},
    "colab_type": "code",
    "id": "yz9kn6OZXL1a",
    "outputId": "4c7370a2-4212-4538-b50f-ec6e43ea921d",
    "scrolled": false
   },
   "outputs": [
    {
     "name": "stdout",
     "output_type": "stream",
     "text": [
      "              precision    recall  f1-score   support\n",
      "\n",
      "           0       0.66      0.77      0.71       142\n",
      "           1       0.66      0.53      0.59       120\n",
      "\n",
      "    accuracy                           0.66       262\n",
      "   macro avg       0.66      0.65      0.65       262\n",
      "weighted avg       0.66      0.66      0.65       262\n",
      "\n"
     ]
    }
   ],
   "source": [
    "print(classification_report(y_test, ytest_predict))"
   ]
  },
  {
   "cell_type": "code",
   "execution_count": 1175,
   "id": "a76a0b5c",
   "metadata": {},
   "outputs": [
    {
     "name": "stdout",
     "output_type": "stream",
     "text": [
      "lr_train_precision  0.66\n",
      "lr_train_recall  0.57\n",
      "lr_tain_f1  0.61\n"
     ]
    }
   ],
   "source": [
    "lr_metrics=classification_report(y_train, ytrain_predict,output_dict=True)\n",
    "lr_df=pd.DataFrame(lr_metrics).transpose()\n",
    "lr_train_f1=round(lr_df.loc[\"1\"][2],2)\n",
    "lr_train_recall=round(lr_df.loc[\"1\"][1],2)\n",
    "lr_train_precision=round(lr_df.loc[\"1\"][0],2)\n",
    "print ('lr_train_precision ',lr_train_precision)\n",
    "print ('lr_train_recall ',lr_train_recall)\n",
    "print ('lr_tain_f1 ',lr_train_f1)"
   ]
  },
  {
   "cell_type": "code",
   "execution_count": 1176,
   "id": "56d6257f",
   "metadata": {},
   "outputs": [
    {
     "name": "stdout",
     "output_type": "stream",
     "text": [
      "lr_test_precision  0.66\n",
      "lr_test_recall  0.52\n",
      "lr_tain_f1  0.59\n"
     ]
    }
   ],
   "source": [
    "lr_metrics=classification_report(y_test, ytest_predict,output_dict=True)\n",
    "lr_df=pd.DataFrame(lr_metrics).transpose()\n",
    "lr_test_f1=round(lr_df.loc[\"1\"][2],2)\n",
    "lr_test_recall=round(lr_df.loc[\"1\"][1],2)\n",
    "lr_test_precision=round(lr_df.loc[\"1\"][0],2)\n",
    "print ('lr_test_precision ',lr_test_precision)\n",
    "print ('lr_test_recall ',lr_test_recall)\n",
    "print ('lr_tain_f1 ',lr_test_f1)"
   ]
  },
  {
   "cell_type": "code",
   "execution_count": 1177,
   "id": "6c8e22d1",
   "metadata": {},
   "outputs": [
    {
     "data": {
      "text/plain": [
       "0.6672131147540984"
      ]
     },
     "execution_count": 1177,
     "metadata": {},
     "output_type": "execute_result"
    }
   ],
   "source": [
    "lr_train_score=best_grid.score(X_train, y_train)\n",
    "lr_train_score"
   ]
  },
  {
   "cell_type": "code",
   "execution_count": 1178,
   "id": "28d6e6eb",
   "metadata": {},
   "outputs": [
    {
     "data": {
      "text/plain": [
       "0.6603053435114504"
      ]
     },
     "execution_count": 1178,
     "metadata": {},
     "output_type": "execute_result"
    }
   ],
   "source": [
    "lr_test_score=best_grid.score(X_test, y_test)\n",
    "lr_test_score"
   ]
  },
  {
   "cell_type": "markdown",
   "id": "f1af24be",
   "metadata": {},
   "source": [
    "### LDA Model"
   ]
  },
  {
   "cell_type": "code",
   "execution_count": 1179,
   "id": "04020b54",
   "metadata": {},
   "outputs": [],
   "source": [
    "from sklearn.discriminant_analysis import LinearDiscriminantAnalysis\n",
    "from sklearn import metrics,model_selection"
   ]
  },
  {
   "cell_type": "code",
   "execution_count": 1180,
   "id": "543d974c",
   "metadata": {},
   "outputs": [],
   "source": [
    "lda = LinearDiscriminantAnalysis()\n",
    "model=lda.fit(X_train,y_train)"
   ]
  },
  {
   "cell_type": "code",
   "execution_count": 1181,
   "id": "3ecc4b4c",
   "metadata": {},
   "outputs": [],
   "source": [
    "# Training Data Class Prediction with a cut-off value of 0.5\n",
    "pred_class_train = model.predict(X_train)\n",
    "\n",
    "# Test Data Class Prediction with a cut-off value of 0.5\n",
    "pred_class_test = model.predict(X_test)"
   ]
  },
  {
   "cell_type": "code",
   "execution_count": 1182,
   "id": "bd92864d",
   "metadata": {
    "scrolled": true
   },
   "outputs": [
    {
     "data": {
      "text/html": [
       "<div>\n",
       "<style scoped>\n",
       "    .dataframe tbody tr th:only-of-type {\n",
       "        vertical-align: middle;\n",
       "    }\n",
       "\n",
       "    .dataframe tbody tr th {\n",
       "        vertical-align: top;\n",
       "    }\n",
       "\n",
       "    .dataframe thead th {\n",
       "        text-align: right;\n",
       "    }\n",
       "</style>\n",
       "<table border=\"1\" class=\"dataframe\">\n",
       "  <thead>\n",
       "    <tr style=\"text-align: right;\">\n",
       "      <th></th>\n",
       "      <th>0</th>\n",
       "      <th>1</th>\n",
       "    </tr>\n",
       "  </thead>\n",
       "  <tbody>\n",
       "    <tr>\n",
       "      <th>0</th>\n",
       "      <td>0.261849</td>\n",
       "      <td>0.738151</td>\n",
       "    </tr>\n",
       "    <tr>\n",
       "      <th>1</th>\n",
       "      <td>0.710383</td>\n",
       "      <td>0.289617</td>\n",
       "    </tr>\n",
       "    <tr>\n",
       "      <th>2</th>\n",
       "      <td>0.617657</td>\n",
       "      <td>0.382343</td>\n",
       "    </tr>\n",
       "    <tr>\n",
       "      <th>3</th>\n",
       "      <td>0.235165</td>\n",
       "      <td>0.764835</td>\n",
       "    </tr>\n",
       "    <tr>\n",
       "      <th>4</th>\n",
       "      <td>0.533171</td>\n",
       "      <td>0.466829</td>\n",
       "    </tr>\n",
       "  </tbody>\n",
       "</table>\n",
       "</div>"
      ],
      "text/plain": [
       "          0         1\n",
       "0  0.261849  0.738151\n",
       "1  0.710383  0.289617\n",
       "2  0.617657  0.382343\n",
       "3  0.235165  0.764835\n",
       "4  0.533171  0.466829"
      ]
     },
     "execution_count": 1182,
     "metadata": {},
     "output_type": "execute_result"
    }
   ],
   "source": [
    "ytrain_predict_prob=model.predict_proba(X_train)\n",
    "pd.DataFrame(ytrain_predict_prob).head()"
   ]
  },
  {
   "cell_type": "code",
   "execution_count": 1183,
   "id": "2064ef7a",
   "metadata": {},
   "outputs": [
    {
     "data": {
      "text/html": [
       "<div>\n",
       "<style scoped>\n",
       "    .dataframe tbody tr th:only-of-type {\n",
       "        vertical-align: middle;\n",
       "    }\n",
       "\n",
       "    .dataframe tbody tr th {\n",
       "        vertical-align: top;\n",
       "    }\n",
       "\n",
       "    .dataframe thead th {\n",
       "        text-align: right;\n",
       "    }\n",
       "</style>\n",
       "<table border=\"1\" class=\"dataframe\">\n",
       "  <thead>\n",
       "    <tr style=\"text-align: right;\">\n",
       "      <th></th>\n",
       "      <th>0</th>\n",
       "      <th>1</th>\n",
       "    </tr>\n",
       "  </thead>\n",
       "  <tbody>\n",
       "    <tr>\n",
       "      <th>0</th>\n",
       "      <td>0.708475</td>\n",
       "      <td>0.291525</td>\n",
       "    </tr>\n",
       "    <tr>\n",
       "      <th>1</th>\n",
       "      <td>0.533448</td>\n",
       "      <td>0.466552</td>\n",
       "    </tr>\n",
       "    <tr>\n",
       "      <th>2</th>\n",
       "      <td>0.717871</td>\n",
       "      <td>0.282129</td>\n",
       "    </tr>\n",
       "    <tr>\n",
       "      <th>3</th>\n",
       "      <td>0.504865</td>\n",
       "      <td>0.495135</td>\n",
       "    </tr>\n",
       "    <tr>\n",
       "      <th>4</th>\n",
       "      <td>0.555863</td>\n",
       "      <td>0.444137</td>\n",
       "    </tr>\n",
       "  </tbody>\n",
       "</table>\n",
       "</div>"
      ],
      "text/plain": [
       "          0         1\n",
       "0  0.708475  0.291525\n",
       "1  0.533448  0.466552\n",
       "2  0.717871  0.282129\n",
       "3  0.504865  0.495135\n",
       "4  0.555863  0.444137"
      ]
     },
     "execution_count": 1183,
     "metadata": {},
     "output_type": "execute_result"
    }
   ],
   "source": [
    "ytest_predict_prob=model.predict_proba(X_test)\n",
    "pd.DataFrame(ytest_predict_prob).head()"
   ]
  },
  {
   "cell_type": "code",
   "execution_count": 1184,
   "id": "96cb78fb",
   "metadata": {
    "scrolled": true
   },
   "outputs": [
    {
     "data": {
      "image/png": "[encoded data removed]",
      "text/plain": [
       "<Figure size 432x288 with 2 Axes>"
      ]
     },
     "metadata": {
      "needs_background": "light"
     },
     "output_type": "display_data"
    }
   ],
   "source": [
    "plot_confusion_matrix(model,X_train,y_train);\n",
    "plt.title('Train Data')\n",
    "plt.show()"
   ]
  },
  {
   "cell_type": "code",
   "execution_count": 1185,
   "id": "b385ea91",
   "metadata": {},
   "outputs": [
    {
     "data": {
      "text/plain": [
       "array([[109,  33],\n",
       "       [ 61,  59]], dtype=int64)"
      ]
     },
     "execution_count": 1185,
     "metadata": {},
     "output_type": "execute_result"
    }
   ],
   "source": [
    "confusion_matrix(y_test, pred_class_test)"
   ]
  },
  {
   "cell_type": "code",
   "execution_count": 1186,
   "id": "dad32937",
   "metadata": {
    "scrolled": true
   },
   "outputs": [
    {
     "data": {
      "image/png": "[encoded data removed]",
      "text/plain": [
       "<Figure size 432x288 with 2 Axes>"
      ]
     },
     "metadata": {
      "needs_background": "light"
     },
     "output_type": "display_data"
    }
   ],
   "source": [
    "plot_confusion_matrix(model,X_test,y_test);\n",
    "plt.title('Test Data')\n",
    "plt.show()"
   ]
  },
  {
   "cell_type": "code",
   "execution_count": 1187,
   "id": "83fb508b",
   "metadata": {
    "scrolled": false
   },
   "outputs": [
    {
     "name": "stdout",
     "output_type": "stream",
     "text": [
      "Training Data report :\n",
      "\n",
      "               precision    recall  f1-score   support\n",
      "\n",
      "           0       0.67      0.74      0.70       329\n",
      "           1       0.65      0.58      0.61       281\n",
      "\n",
      "    accuracy                           0.66       610\n",
      "   macro avg       0.66      0.66      0.66       610\n",
      "weighted avg       0.66      0.66      0.66       610\n",
      " \n",
      "\n",
      "Testing Data report:\n",
      "\n",
      "               precision    recall  f1-score   support\n",
      "\n",
      "           0       0.64      0.77      0.70       142\n",
      "           1       0.64      0.49      0.56       120\n",
      "\n",
      "    accuracy                           0.64       262\n",
      "   macro avg       0.64      0.63      0.63       262\n",
      "weighted avg       0.64      0.64      0.63       262\n",
      " \n",
      "\n"
     ]
    }
   ],
   "source": [
    "print('Training Data report :\\n\\n',metrics.classification_report(y_train,pred_class_train),'\\n')\n",
    "print('Testing Data report:\\n\\n',metrics.classification_report(y_test,pred_class_test),'\\n')"
   ]
  },
  {
   "cell_type": "code",
   "execution_count": 1188,
   "id": "e715d57e",
   "metadata": {
    "ExecuteTime": {
     "end_time": "2021-03-01T11:06:50.783349Z",
     "start_time": "2021-03-01T11:06:50.773375Z"
    },
    "colab": {},
    "colab_type": "code",
    "id": "weSpIESCXL0a",
    "outputId": "115b3609-d00d-488a-c00e-6bab38a59baa"
   },
   "outputs": [
    {
     "data": {
      "text/plain": [
       "0.6412213740458015"
      ]
     },
     "execution_count": 1188,
     "metadata": {},
     "output_type": "execute_result"
    }
   ],
   "source": [
    "# Accuracy - Test Data\n",
    "lda1_test_score=model.score(X_test, y_test)\n",
    "lda1_test_score"
   ]
  },
  {
   "cell_type": "code",
   "execution_count": 1189,
   "id": "2d96b822",
   "metadata": {},
   "outputs": [
    {
     "data": {
      "text/plain": [
       "0.6639344262295082"
      ]
     },
     "execution_count": 1189,
     "metadata": {},
     "output_type": "execute_result"
    }
   ],
   "source": [
    "lda1_train_score=model.score(X_train, y_train)\n",
    "lda1_train_score"
   ]
  },
  {
   "cell_type": "markdown",
   "id": "d2c76030",
   "metadata": {
    "colab_type": "text",
    "id": "3fKTZGD6XL0j"
   },
   "source": [
    "### AUC and ROC for the test data"
   ]
  },
  {
   "cell_type": "code",
   "execution_count": 1190,
   "id": "08eb2de4",
   "metadata": {},
   "outputs": [
    {
     "name": "stdout",
     "output_type": "stream",
     "text": [
      "AUC: 0.733\n"
     ]
    },
    {
     "data": {
      "image/png": "[encoded data removed]",
      "text/plain": [
       "<Figure size 432x288 with 1 Axes>"
      ]
     },
     "metadata": {
      "needs_background": "light"
     },
     "output_type": "display_data"
    }
   ],
   "source": [
    "# predict probabilities\n",
    "lda1_probs_train = model.predict_proba(X_train)\n",
    "# keep probabilities for the positive outcome only\n",
    "lda_probs_train1 = lda1_probs_train[:, 1]\n",
    "# calculate AUC\n",
    "lda1_auc_train = roc_auc_score(y_train, lda_probs_train1)\n",
    "print('AUC: %.3f' % lda1_auc_train)\n",
    "# calculate roc curve\n",
    "lda1_train_fpr, lda1_train_tpr, lda1_train_thresholds = roc_curve(y_train, lda_probs_train1)\n",
    "plt.plot([0, 1], [0, 1], linestyle='--')\n",
    "# plot the roc curve for the model\n",
    "plt.plot(lda1_train_fpr, lda1_train_tpr);\n",
    "plt.title('ROC for Train data')\n",
    "plt.show()"
   ]
  },
  {
   "cell_type": "code",
   "execution_count": 1191,
   "id": "51f9cfa3",
   "metadata": {
    "ExecuteTime": {
     "end_time": "2021-03-01T11:06:51.060607Z",
     "start_time": "2021-03-01T11:06:50.785342Z"
    },
    "colab": {},
    "colab_type": "code",
    "id": "sGA-6IxaXL0m",
    "outputId": "0b884c66-7362-4694-e72b-460e55e54525",
    "scrolled": false
   },
   "outputs": [
    {
     "name": "stdout",
     "output_type": "stream",
     "text": [
      "AUC: 0.714\n"
     ]
    },
    {
     "data": {
      "image/png": "[encoded data removed]",
      "text/plain": [
       "<Figure size 432x288 with 1 Axes>"
      ]
     },
     "metadata": {
      "needs_background": "light"
     },
     "output_type": "display_data"
    }
   ],
   "source": [
    "# predict probabilities\n",
    "lda1_probs_test = model.predict_proba(X_test)\n",
    "# keep probabilities for the positive outcome only\n",
    "lda_probs1 = lda1_probs_test[:, 1]\n",
    "# calculate AUC\n",
    "lda1_test_auc = roc_auc_score(y_test, lda_probs1)\n",
    "print('AUC: %.3f' % lda1_test_auc)\n",
    "# calculate roc curve\n",
    "lda1_test_fpr, lda1_test_tpr, lda1_test_thresholds = roc_curve(y_test, lda_probs1)\n",
    "plt.plot([0, 1], [0, 1], linestyle='--')\n",
    "# plot the roc curve for the model\n",
    "plt.plot(lda1_test_fpr, lda1_test_tpr);\n",
    "plt.title('ROC for Test data')\n",
    "plt.show()"
   ]
  },
  {
   "cell_type": "code",
   "execution_count": 1192,
   "id": "6165266f",
   "metadata": {},
   "outputs": [
    {
     "name": "stdout",
     "output_type": "stream",
     "text": [
      "lda1_train_precision  0.65\n",
      "lda1_train_recall  0.58\n",
      "lda1_tain_f1  0.61\n"
     ]
    }
   ],
   "source": [
    "lda1_metrics=classification_report(y_train, pred_class_train,output_dict=True)\n",
    "lda1_df=pd.DataFrame(lda1_metrics).transpose()\n",
    "lda1_train_f1=round(lda1_df.loc[\"1\"][2],2)\n",
    "lda1_train_recall=round(lda1_df.loc[\"1\"][1],2)\n",
    "lda1_train_precision=round(lda1_df.loc[\"1\"][0],2)\n",
    "print ('lda1_train_precision ',lda1_train_precision)\n",
    "print ('lda1_train_recall ',lda1_train_recall)\n",
    "print ('lda1_tain_f1 ',lda1_train_f1)"
   ]
  },
  {
   "cell_type": "code",
   "execution_count": 1193,
   "id": "423f8053",
   "metadata": {},
   "outputs": [
    {
     "name": "stdout",
     "output_type": "stream",
     "text": [
      "lda1_test_precision  0.64\n",
      "lda1_test_recall  0.49\n",
      "lda1_tain_f1  0.56\n"
     ]
    }
   ],
   "source": [
    "lda1_metrics=classification_report(y_test, pred_class_test,output_dict=True)\n",
    "lda1_df=pd.DataFrame(lda1_metrics).transpose()\n",
    "lda1_test_f1=round(lda1_df.loc[\"1\"][2],2)\n",
    "lda1_test_recall=round(lda1_df.loc[\"1\"][1],2)\n",
    "lda1_test_precision=round(lda1_df.loc[\"1\"][0],2)\n",
    "print ('lda1_test_precision ',lda1_test_precision)\n",
    "print ('lda1_test_recall ',lda1_test_recall)\n",
    "print ('lda1_tain_f1 ',lda1_test_f1)"
   ]
  },
  {
   "cell_type": "markdown",
   "id": "69c21558",
   "metadata": {},
   "source": [
    "# How to change the cut-off values for maximum accuracy?"
   ]
  },
  {
   "cell_type": "markdown",
   "id": "e0291d8e",
   "metadata": {},
   "source": [
    "We will do this exercise only on the training data."
   ]
  },
  {
   "cell_type": "code",
   "execution_count": 1194,
   "id": "0acd0d30",
   "metadata": {
    "ExecuteTime": {
     "end_time": "2020-07-31T11:26:32.934715Z",
     "start_time": "2020-07-31T11:26:31.582457Z"
    },
    "scrolled": true
   },
   "outputs": [
    {
     "name": "stdout",
     "output_type": "stream",
     "text": [
      "0.1 \n",
      "\n",
      "Recall Score 0.9964\n",
      "Accuracy Score 0.482\n",
      "F1 Score 0.6393 \n",
      "\n",
      "Confusion Matrix\n"
     ]
    },
    {
     "data": {
      "image/png": "[encoded data removed]",
      "text/plain": [
       "<Figure size 432x288 with 2 Axes>"
      ]
     },
     "metadata": {
      "needs_background": "light"
     },
     "output_type": "display_data"
    },
    {
     "name": "stdout",
     "output_type": "stream",
     "text": [
      "0.2 \n",
      "\n",
      "Recall Score 0.9644\n",
      "Accuracy Score 0.5213\n",
      "F1 Score 0.6499 \n",
      "\n",
      "Confusion Matrix\n"
     ]
    },
    {
     "data": {
      "image/png": "[encoded data removed]",
      "text/plain": [
       "<Figure size 432x288 with 2 Axes>"
      ]
     },
     "metadata": {
      "needs_background": "light"
     },
     "output_type": "display_data"
    },
    {
     "name": "stdout",
     "output_type": "stream",
     "text": [
      "0.3 \n",
      "\n",
      "Recall Score 0.8932\n",
      "Accuracy Score 0.5934\n",
      "F1 Score 0.6693 \n",
      "\n",
      "Confusion Matrix\n"
     ]
    },
    {
     "data": {
      "image/png": "[encoded data removed]",
      "text/plain": [
       "<Figure size 432x288 with 2 Axes>"
      ]
     },
     "metadata": {
      "needs_background": "light"
     },
     "output_type": "display_data"
    },
    {
     "name": "stdout",
     "output_type": "stream",
     "text": [
      "0.4 \n",
      "\n",
      "Recall Score 0.758\n",
      "Accuracy Score 0.6656\n",
      "F1 Score 0.6762 \n",
      "\n",
      "Confusion Matrix\n"
     ]
    },
    {
     "data": {
      "image/png": "[encoded data removed]",
      "text/plain": [
       "<Figure size 432x288 with 2 Axes>"
      ]
     },
     "metadata": {
      "needs_background": "light"
     },
     "output_type": "display_data"
    },
    {
     "name": "stdout",
     "output_type": "stream",
     "text": [
      "0.5 \n",
      "\n",
      "Recall Score 0.5765\n",
      "Accuracy Score 0.6639\n",
      "F1 Score 0.6125 \n",
      "\n",
      "Confusion Matrix\n"
     ]
    },
    {
     "data": {
      "image/png": "[encoded data removed]",
      "text/plain": [
       "<Figure size 432x288 with 2 Axes>"
      ]
     },
     "metadata": {
      "needs_background": "light"
     },
     "output_type": "display_data"
    },
    {
     "name": "stdout",
     "output_type": "stream",
     "text": [
      "0.6 \n",
      "\n",
      "Recall Score 0.4235\n",
      "Accuracy Score 0.659\n",
      "F1 Score 0.5336 \n",
      "\n",
      "Confusion Matrix\n"
     ]
    },
    {
     "data": {
      "image/png": "[encoded data removed]",
      "text/plain": [
       "<Figure size 432x288 with 2 Axes>"
      ]
     },
     "metadata": {
      "needs_background": "light"
     },
     "output_type": "display_data"
    },
    {
     "name": "stdout",
     "output_type": "stream",
     "text": [
      "0.7 \n",
      "\n",
      "Recall Score 0.2989\n",
      "Accuracy Score 0.6492\n",
      "F1 Score 0.4398 \n",
      "\n",
      "Confusion Matrix\n"
     ]
    },
    {
     "data": {
      "image/png": "[encoded data removed]",
      "text/plain": [
       "<Figure size 432x288 with 2 Axes>"
      ]
     },
     "metadata": {
      "needs_background": "light"
     },
     "output_type": "display_data"
    },
    {
     "name": "stdout",
     "output_type": "stream",
     "text": [
      "0.8 \n",
      "\n",
      "Recall Score 0.1103\n",
      "Accuracy Score 0.5885\n",
      "F1 Score 0.1981 \n",
      "\n",
      "Confusion Matrix\n"
     ]
    },
    {
     "data": {
      "image/png": "[encoded data removed]",
      "text/plain": [
       "<Figure size 432x288 with 2 Axes>"
      ]
     },
     "metadata": {
      "needs_background": "light"
     },
     "output_type": "display_data"
    },
    {
     "name": "stdout",
     "output_type": "stream",
     "text": [
      "0.9 \n",
      "\n",
      "Recall Score 0.0071\n",
      "Accuracy Score 0.5426\n",
      "F1 Score 0.0141 \n",
      "\n",
      "Confusion Matrix\n"
     ]
    },
    {
     "data": {
      "image/png": "[encoded data removed]",
      "text/plain": [
       "<Figure size 432x288 with 2 Axes>"
      ]
     },
     "metadata": {
      "needs_background": "light"
     },
     "output_type": "display_data"
    }
   ],
   "source": [
    "for j in np.arange(0.1,1,0.1):\n",
    "    custom_prob = j #defining the cut-off value of our choice\n",
    "    custom_cutoff_data=[]#defining an empty list\n",
    "    for i in range(0,len(y_train)):#defining a loop for the length of the test data\n",
    "        if np.array(ytrain_predict_prob[:,1])[i] > custom_prob:#issuing a condition for our probability values to be \n",
    "            #greater than the custom cutoff value\n",
    "            a=1#if the probability values are greater than the custom cutoff then the value should be 1\n",
    "        else:\n",
    "            a=0#if the probability values are less than the custom cutoff then the value should be 0\n",
    "        custom_cutoff_data.append(a)#adding either 1 or 0 based on the condition to the end of the list defined by us\n",
    "    print(round(j,3),'\\n')\n",
    "    print('Recall Score',round(metrics.recall_score(y_train,custom_cutoff_data),4))\n",
    "    print('Accuracy Score',round(metrics.accuracy_score(y_train,custom_cutoff_data),4))\n",
    "    print('F1 Score',round(metrics.f1_score(y_train,custom_cutoff_data),4),'\\n')\n",
    "    plt.figure(figsize=(6,4))\n",
    "    print('Confusion Matrix')\n",
    "    sns.heatmap(metrics.confusion_matrix(y_train,custom_cutoff_data),annot=True,fmt='.4g'),'\\n\\n'\n",
    "    plt.show();"
   ]
  },
  {
   "cell_type": "code",
   "execution_count": 1195,
   "id": "8b960ba1",
   "metadata": {},
   "outputs": [],
   "source": [
    "#Predicting the classes on the train data\n",
    "data_pred_custom_cutoff_train=[]\n",
    "for i in range(0,len(lda_probs_train[:,1])):\n",
    "    if np.array(lda_probs_train[:,1])[i]>0.4:\n",
    "        a=1\n",
    "    else:\n",
    "        a=0\n",
    "    data_pred_custom_cutoff_train.append(a)"
   ]
  },
  {
   "cell_type": "code",
   "execution_count": 1196,
   "id": "3cc75f00",
   "metadata": {
    "ExecuteTime": {
     "end_time": "2020-07-31T11:26:32.942693Z",
     "start_time": "2020-07-31T11:26:32.935713Z"
    }
   },
   "outputs": [],
   "source": [
    "#Predicting the classes on the test data\n",
    "\n",
    "data_pred_custom_cutoff_test=[]\n",
    "for i in range(0,len(lda_probs_test[:,1])):\n",
    "    if np.array(lda_probs_test[:,1])[i]>0.4:\n",
    "        a=1\n",
    "    else:\n",
    "        a=0\n",
    "    data_pred_custom_cutoff_test.append(a)"
   ]
  },
  {
   "cell_type": "code",
   "execution_count": 1197,
   "id": "78e191bb",
   "metadata": {
    "scrolled": true
   },
   "outputs": [
    {
     "data": {
      "image/png": "[encoded data removed]",
      "text/plain": [
       "<Figure size 432x288 with 2 Axes>"
      ]
     },
     "metadata": {
      "needs_background": "light"
     },
     "output_type": "display_data"
    }
   ],
   "source": [
    "sns.heatmap((metrics.confusion_matrix(y_train,data_pred_custom_cutoff_train)),annot=True,fmt='.5g');"
   ]
  },
  {
   "cell_type": "code",
   "execution_count": 1198,
   "id": "44842cdc",
   "metadata": {},
   "outputs": [
    {
     "data": {
      "text/plain": [
       "array([[109,  33],\n",
       "       [ 61,  59]], dtype=int64)"
      ]
     },
     "execution_count": 1198,
     "metadata": {},
     "output_type": "execute_result"
    }
   ],
   "source": [
    "confusion_matrix(y_test, pred_class_test)"
   ]
  },
  {
   "cell_type": "code",
   "execution_count": 1199,
   "id": "e8dbae4f",
   "metadata": {},
   "outputs": [
    {
     "data": {
      "image/png": "[encoded data removed]",
      "text/plain": [
       "<Figure size 432x288 with 2 Axes>"
      ]
     },
     "metadata": {
      "needs_background": "light"
     },
     "output_type": "display_data"
    }
   ],
   "source": [
    "sns.heatmap((metrics.confusion_matrix(y_test,data_pred_custom_cutoff_test)),annot=True,fmt='.5g');"
   ]
  },
  {
   "cell_type": "code",
   "execution_count": 1200,
   "id": "f7e79b57",
   "metadata": {
    "scrolled": false
   },
   "outputs": [
    {
     "name": "stdout",
     "output_type": "stream",
     "text": [
      "Training Data report :\n",
      "\n",
      "               precision    recall  f1-score   support\n",
      "\n",
      "           0       0.74      0.59      0.65       329\n",
      "           1       0.61      0.76      0.68       281\n",
      "\n",
      "    accuracy                           0.67       610\n",
      "   macro avg       0.67      0.67      0.67       610\n",
      "weighted avg       0.68      0.67      0.66       610\n",
      " \n",
      "\n",
      "Testing Data report:\n",
      "\n",
      "               precision    recall  f1-score   support\n",
      "\n",
      "           0       0.71      0.58      0.64       142\n",
      "           1       0.59      0.72      0.65       120\n",
      "\n",
      "    accuracy                           0.65       262\n",
      "   macro avg       0.65      0.65      0.64       262\n",
      "weighted avg       0.66      0.65      0.64       262\n",
      " \n",
      "\n"
     ]
    }
   ],
   "source": [
    "print('Training Data report :\\n\\n',metrics.classification_report(y_train,data_pred_custom_cutoff_train),'\\n')\n",
    "print('Testing Data report:\\n\\n',metrics.classification_report(y_test,data_pred_custom_cutoff_test),'\\n')"
   ]
  },
  {
   "cell_type": "code",
   "execution_count": 1201,
   "id": "3fe6a37b",
   "metadata": {
    "ExecuteTime": {
     "end_time": "2021-03-01T11:06:50.783349Z",
     "start_time": "2021-03-01T11:06:50.773375Z"
    },
    "colab": {},
    "colab_type": "code",
    "id": "weSpIESCXL0a",
    "outputId": "115b3609-d00d-488a-c00e-6bab38a59baa"
   },
   "outputs": [
    {
     "data": {
      "text/plain": [
       "0.6412213740458015"
      ]
     },
     "execution_count": 1201,
     "metadata": {},
     "output_type": "execute_result"
    }
   ],
   "source": [
    "# Accuracy - Test Data\n",
    "lda2_test_score=model.score(X_test, y_test)\n",
    "lda2_test_score"
   ]
  },
  {
   "cell_type": "code",
   "execution_count": 1202,
   "id": "5af8f8af",
   "metadata": {},
   "outputs": [
    {
     "data": {
      "text/plain": [
       "0.6639344262295082"
      ]
     },
     "execution_count": 1202,
     "metadata": {},
     "output_type": "execute_result"
    }
   ],
   "source": [
    "# Accuracy - Train Data\n",
    "lda2_train_score=model.score(X_train, y_train)\n",
    "lda2_train_score"
   ]
  },
  {
   "cell_type": "markdown",
   "id": "e949f661",
   "metadata": {
    "colab_type": "text",
    "id": "3fKTZGD6XL0j"
   },
   "source": [
    "### AUC and ROC for the train data"
   ]
  },
  {
   "cell_type": "code",
   "execution_count": 1203,
   "id": "25db2184",
   "metadata": {},
   "outputs": [
    {
     "name": "stdout",
     "output_type": "stream",
     "text": [
      "AUC: 0.672\n"
     ]
    },
    {
     "data": {
      "image/png": "[encoded data removed]",
      "text/plain": [
       "<Figure size 432x288 with 1 Axes>"
      ]
     },
     "metadata": {
      "needs_background": "light"
     },
     "output_type": "display_data"
    }
   ],
   "source": [
    "\n",
    "# calculate AUC\n",
    "lda2_train_auc = roc_auc_score(y_train,data_pred_custom_cutoff_train)\n",
    "print('AUC: %.3f' % lda2_train_auc)\n",
    "# calculate roc curve\n",
    "lda2_train_fpr, lda2_train_tpr, lda2_train_thresholds = roc_curve(y_train,data_pred_custom_cutoff_train)\n",
    "plt.plot([0, 1], [0, 1], linestyle='--')\n",
    "# plot the roc curve for the model\n",
    "plt.plot(lda2_train_fpr, lda2_train_tpr);\n",
    "plt.title('ROC for Train data')\n",
    "plt.show()"
   ]
  },
  {
   "cell_type": "code",
   "execution_count": 1204,
   "id": "bb19867b",
   "metadata": {
    "ExecuteTime": {
     "end_time": "2021-03-01T11:06:51.060607Z",
     "start_time": "2021-03-01T11:06:50.785342Z"
    },
    "colab": {},
    "colab_type": "code",
    "id": "sGA-6IxaXL0m",
    "outputId": "0b884c66-7362-4694-e72b-460e55e54525",
    "scrolled": true
   },
   "outputs": [
    {
     "name": "stdout",
     "output_type": "stream",
     "text": [
      "AUC: 0.651\n"
     ]
    },
    {
     "data": {
      "image/png": "[encoded data removed]",
      "text/plain": [
       "<Figure size 432x288 with 1 Axes>"
      ]
     },
     "metadata": {
      "needs_background": "light"
     },
     "output_type": "display_data"
    }
   ],
   "source": [
    "lda2_test_auc = roc_auc_score(y_test, data_pred_custom_cutoff_test)\n",
    "print('AUC: %.3f' % lda2_test_auc)\n",
    "# calculate roc curve\n",
    "lda2_test_fpr, lda2_test_tpr, lda2_test_thresholds = roc_curve(y_test, data_pred_custom_cutoff_test)\n",
    "plt.plot([0, 1], [0, 1], linestyle='--')\n",
    "# plot the roc curve for the model\n",
    "plt.plot(lda2_test_fpr, lda2_test_tpr);\n",
    "plt.title('ROC for test data')\n",
    "plt.show()"
   ]
  },
  {
   "cell_type": "code",
   "execution_count": 1205,
   "id": "887bdd01",
   "metadata": {},
   "outputs": [
    {
     "name": "stdout",
     "output_type": "stream",
     "text": [
      "lda2_test_precision  0.59\n",
      "lda2_test_recall  0.72\n",
      "lda2_train_f1  0.65\n"
     ]
    }
   ],
   "source": [
    "lda2_metrics=classification_report(y_test, data_pred_custom_cutoff_test,output_dict=True)\n",
    "lda2_df=pd.DataFrame(lda2_metrics).transpose()\n",
    "lda2_test_f1=round(lda2_df.loc[\"1\"][2],2)\n",
    "lda2_test_recall=round(lda2_df.loc[\"1\"][1],2)\n",
    "lda2_test_precision=round(lda2_df.loc[\"1\"][0],2)\n",
    "print ('lda2_test_precision ',lda2_test_precision)\n",
    "print ('lda2_test_recall ',lda2_test_recall)\n",
    "print ('lda2_train_f1 ',lda2_test_f1)"
   ]
  },
  {
   "cell_type": "code",
   "execution_count": 1206,
   "id": "2f5b5a1a",
   "metadata": {},
   "outputs": [
    {
     "name": "stdout",
     "output_type": "stream",
     "text": [
      "lda2_train_precision  0.61\n",
      "lda2_train_recall  0.76\n",
      "lda2_train_f1  0.68\n"
     ]
    }
   ],
   "source": [
    "lda2_metrics=classification_report(y_train, data_pred_custom_cutoff_train,output_dict=True)\n",
    "lda2_df=pd.DataFrame(lda2_metrics).transpose()\n",
    "lda2_train_f1=round(lda2_df.loc[\"1\"][2],2)\n",
    "lda2_train_recall=round(lda2_df.loc[\"1\"][1],2)\n",
    "lda2_train_precision=round(lda2_df.loc[\"1\"][0],2)\n",
    "print ('lda2_train_precision ',lda2_train_precision)\n",
    "print ('lda2_train_recall ',lda2_train_recall)\n",
    "print ('lda2_train_f1 ',lda2_train_f1)"
   ]
  },
  {
   "cell_type": "code",
   "execution_count": 1207,
   "id": "bca9567f",
   "metadata": {},
   "outputs": [
    {
     "data": {
      "text/html": [
       "<div>\n",
       "<style scoped>\n",
       "    .dataframe tbody tr th:only-of-type {\n",
       "        vertical-align: middle;\n",
       "    }\n",
       "\n",
       "    .dataframe tbody tr th {\n",
       "        vertical-align: top;\n",
       "    }\n",
       "\n",
       "    .dataframe thead th {\n",
       "        text-align: right;\n",
       "    }\n",
       "</style>\n",
       "<table border=\"1\" class=\"dataframe\">\n",
       "  <thead>\n",
       "    <tr style=\"text-align: right;\">\n",
       "      <th></th>\n",
       "      <th>LDA Train(cut_of_0.5)</th>\n",
       "      <th>LDA Test(cut_of_0.5)</th>\n",
       "      <th>LDA Train(cut_of_0.4)</th>\n",
       "      <th>LDA Test(cut_of_0.4)</th>\n",
       "    </tr>\n",
       "  </thead>\n",
       "  <tbody>\n",
       "    <tr>\n",
       "      <th>Accuracy</th>\n",
       "      <td>0.66</td>\n",
       "      <td>0.64</td>\n",
       "      <td>0.66</td>\n",
       "      <td>0.64</td>\n",
       "    </tr>\n",
       "    <tr>\n",
       "      <th>AUC</th>\n",
       "      <td>0.73</td>\n",
       "      <td>0.71</td>\n",
       "      <td>0.67</td>\n",
       "      <td>0.65</td>\n",
       "    </tr>\n",
       "    <tr>\n",
       "      <th>Precision</th>\n",
       "      <td>0.65</td>\n",
       "      <td>0.64</td>\n",
       "      <td>0.61</td>\n",
       "      <td>0.59</td>\n",
       "    </tr>\n",
       "    <tr>\n",
       "      <th>Recall</th>\n",
       "      <td>0.58</td>\n",
       "      <td>0.49</td>\n",
       "      <td>0.76</td>\n",
       "      <td>0.72</td>\n",
       "    </tr>\n",
       "    <tr>\n",
       "      <th>F1 Score</th>\n",
       "      <td>0.61</td>\n",
       "      <td>0.56</td>\n",
       "      <td>0.68</td>\n",
       "      <td>0.65</td>\n",
       "    </tr>\n",
       "  </tbody>\n",
       "</table>\n",
       "</div>"
      ],
      "text/plain": [
       "           LDA Train(cut_of_0.5)  LDA Test(cut_of_0.5)  LDA Train(cut_of_0.4)  \\\n",
       "Accuracy                    0.66                  0.64                   0.66   \n",
       "AUC                         0.73                  0.71                   0.67   \n",
       "Precision                   0.65                  0.64                   0.61   \n",
       "Recall                      0.58                  0.49                   0.76   \n",
       "F1 Score                    0.61                  0.56                   0.68   \n",
       "\n",
       "           LDA Test(cut_of_0.4)  \n",
       "Accuracy                   0.64  \n",
       "AUC                        0.65  \n",
       "Precision                  0.59  \n",
       "Recall                     0.72  \n",
       "F1 Score                   0.65  "
      ]
     },
     "execution_count": 1207,
     "metadata": {},
     "output_type": "execute_result"
    }
   ],
   "source": [
    "index=['Accuracy', 'AUC', 'Precision','Recall','F1 Score']\n",
    "data = pd.DataFrame({'LDA Train(cut_of_0.5)':[lda1_train_score,lda1_auc_train,lda1_train_precision,lda1_train_recall,lda1_train_f1],\n",
    "        'LDA Test(cut_of_0.5)':[lda1_test_score,lda1_test_auc,lda1_test_precision,lda1_test_recall,lda1_test_f1],\n",
    "       'LDA Train(cut_of_0.4)':[lda2_train_score,lda2_train_auc,lda2_train_precision,lda2_train_recall,lda2_train_f1],\n",
    "        'LDA Test(cut_of_0.4)':[lda2_test_score,lda2_test_auc,lda2_test_precision,lda2_test_recall,lda2_test_f1]},index=index)\n",
    "\n",
    "round(data,2)"
   ]
  },
  {
   "cell_type": "code",
   "execution_count": 1215,
   "id": "6c56b3c5",
   "metadata": {},
   "outputs": [
    {
     "data": {
      "text/html": [
       "<div>\n",
       "<style scoped>\n",
       "    .dataframe tbody tr th:only-of-type {\n",
       "        vertical-align: middle;\n",
       "    }\n",
       "\n",
       "    .dataframe tbody tr th {\n",
       "        vertical-align: top;\n",
       "    }\n",
       "\n",
       "    .dataframe thead th {\n",
       "        text-align: right;\n",
       "    }\n",
       "</style>\n",
       "<table border=\"1\" class=\"dataframe\">\n",
       "  <thead>\n",
       "    <tr style=\"text-align: right;\">\n",
       "      <th></th>\n",
       "      <th>LR Train</th>\n",
       "      <th>LR Test</th>\n",
       "      <th>LDA Train</th>\n",
       "      <th>LDA Test</th>\n",
       "    </tr>\n",
       "  </thead>\n",
       "  <tbody>\n",
       "    <tr>\n",
       "      <th>Accuracy</th>\n",
       "      <td>0.67</td>\n",
       "      <td>0.66</td>\n",
       "      <td>0.66</td>\n",
       "      <td>0.64</td>\n",
       "    </tr>\n",
       "    <tr>\n",
       "      <th>AUC</th>\n",
       "      <td>0.73</td>\n",
       "      <td>0.72</td>\n",
       "      <td>0.67</td>\n",
       "      <td>0.65</td>\n",
       "    </tr>\n",
       "    <tr>\n",
       "      <th>Precision</th>\n",
       "      <td>0.66</td>\n",
       "      <td>0.66</td>\n",
       "      <td>0.61</td>\n",
       "      <td>0.59</td>\n",
       "    </tr>\n",
       "    <tr>\n",
       "      <th>Recall</th>\n",
       "      <td>0.57</td>\n",
       "      <td>0.52</td>\n",
       "      <td>0.76</td>\n",
       "      <td>0.72</td>\n",
       "    </tr>\n",
       "    <tr>\n",
       "      <th>F1 Score</th>\n",
       "      <td>0.61</td>\n",
       "      <td>0.59</td>\n",
       "      <td>0.68</td>\n",
       "      <td>0.65</td>\n",
       "    </tr>\n",
       "  </tbody>\n",
       "</table>\n",
       "</div>"
      ],
      "text/plain": [
       "           LR Train  LR Test  LDA Train  LDA Test\n",
       "Accuracy       0.67     0.66       0.66      0.64\n",
       "AUC            0.73     0.72       0.67      0.65\n",
       "Precision      0.66     0.66       0.61      0.59\n",
       "Recall         0.57     0.52       0.76      0.72\n",
       "F1 Score       0.61     0.59       0.68      0.65"
      ]
     },
     "execution_count": 1215,
     "metadata": {},
     "output_type": "execute_result"
    }
   ],
   "source": [
    "index=['Accuracy', 'AUC', 'Precision','Recall','F1 Score']\n",
    "data = pd.DataFrame({'LR Train':[lr_train_score,lr_train_auc,lr_train_precision,lr_train_recall,lr_train_f1],\n",
    "        'LR Test':[lr_test_score,lr_test_auc,lr_test_precision,lr_test_recall,lr_test_f1],\n",
    "       'LDA Train':[lda2_train_score,lda2_train_auc,lda2_train_precision,lda2_train_recall,lda2_train_f1],\n",
    "        'LDA Test':[lda2_test_score,lda2_test_auc,lda2_test_precision,lda2_test_recall,lda2_test_f1]},index=index)\n",
    "\n",
    "round(data,2)"
   ]
  },
  {
   "cell_type": "code",
   "execution_count": 1212,
   "id": "eafd6da0",
   "metadata": {
    "scrolled": false
   },
   "outputs": [
    {
     "data": {
      "text/plain": [
       "<matplotlib.legend.Legend at 0x141c921bd90>"
      ]
     },
     "execution_count": 1212,
     "metadata": {},
     "output_type": "execute_result"
    },
    {
     "data": {
      "image/png": "[encoded data removed]",
      "text/plain": [
       "<Figure size 432x288 with 1 Axes>"
      ]
     },
     "metadata": {
      "needs_background": "light"
     },
     "output_type": "display_data"
    }
   ],
   "source": [
    "plt.plot([0, 1], [0, 1], linestyle='--')\n",
    "plt.plot(lr_train_fpr, lr_train_tpr,color='red',label=\"LR\")\n",
    "plt.plot(lda2_train_fpr,lda2_train_tpr,color='green',label=\"LDA\")\n",
    "plt.xlabel('False Positive Rate')\n",
    "plt.ylabel('True Positive Rate')\n",
    "plt.title('ROC of train data')\n",
    "plt.legend(bbox_to_anchor=(0., 1.02, 1., .102), loc='lower right')"
   ]
  },
  {
   "cell_type": "code",
   "execution_count": 1214,
   "id": "0d208e3a",
   "metadata": {},
   "outputs": [
    {
     "data": {
      "text/plain": [
       "<matplotlib.legend.Legend at 0x141c9301fd0>"
      ]
     },
     "execution_count": 1214,
     "metadata": {},
     "output_type": "execute_result"
    },
    {
     "data": {
      "image/png": "[encoded data removed]",
      "text/plain": [
       "<Figure size 432x288 with 1 Axes>"
      ]
     },
     "metadata": {
      "needs_background": "light"
     },
     "output_type": "display_data"
    }
   ],
   "source": [
    "plt.plot([0, 1], [0, 1], linestyle='--')\n",
    "plt.plot(lr_test_fpr, lr_test_tpr,color='red',label=\"LR\")\n",
    "plt.plot(lda2_test_fpr,lda2_test_tpr,color='green',label=\"LDA\")\n",
    "plt.xlabel('False Positive Rate')\n",
    "plt.ylabel('True Positive Rate')\n",
    "plt.title('ROC of test data')\n",
    "plt.legend(bbox_to_anchor=(0., 1.02, 1., .102), loc='lower right')"
   ]
  },
  {
   "cell_type": "code",
   "execution_count": 1210,
   "id": "62cd0770",
   "metadata": {},
   "outputs": [
    {
     "data": {
      "text/plain": [
       "<matplotlib.legend.Legend at 0x141c799cc70>"
      ]
     },
     "execution_count": 1210,
     "metadata": {},
     "output_type": "execute_result"
    },
    {
     "data": {
      "image/png": "[encoded data removed]",
      "text/plain": [
       "<Figure size 432x288 with 1 Axes>"
      ]
     },
     "metadata": {
      "needs_background": "light"
     },
     "output_type": "display_data"
    }
   ],
   "source": [
    "plt.plot([0, 1], [0, 1], linestyle='--')\n",
    "plt.plot(lda1_train_fpr,lda1_train_tpr,color='red',label=\"LDA1\")\n",
    "plt.plot(lda2_train_fpr,lda2_train_tpr,color='green',label=\"LDA2\")\n",
    "plt.xlabel('False Positive Rate')\n",
    "plt.ylabel('True Positive Rate')\n",
    "plt.title('ROC of train data')\n",
    "plt.legend(bbox_to_anchor=(0., 1.02, 1., .102), loc='lower right')"
   ]
  },
  {
   "cell_type": "code",
   "execution_count": null,
   "id": "d4ac7758",
   "metadata": {},
   "outputs": [],
   "source": []
  },
  {
   "cell_type": "code",
   "execution_count": null,
   "id": "aa1c6497",
   "metadata": {},
   "outputs": [],
   "source": []
  }
 ],
 "metadata": {
  "kernelspec": {
   "display_name": "Python 3 (ipykernel)",
   "language": "python",
   "name": "python3"
  },
  "language_info": {
   "codemirror_mode": {
    "name": "ipython",
    "version": 3
   },
   "file_extension": ".py",
   "mimetype": "text/x-python",
   "name": "python",
   "nbconvert_exporter": "python",
   "pygments_lexer": "ipython3",
   "version": "3.9.7"
  }
 },
 "nbformat": 4,
 "nbformat_minor": 5
}
